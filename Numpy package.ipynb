{
 "cells": [
  {
   "cell_type": "code",
   "execution_count": 1,
   "id": "04165b71",
   "metadata": {},
   "outputs": [],
   "source": [
    "## numpy library"
   ]
  },
  {
   "cell_type": "code",
   "execution_count": 2,
   "id": "9160414a",
   "metadata": {},
   "outputs": [],
   "source": [
    "# numpy is not a original package in the python it is the package introduced in the python\n",
    "#numpy = numeric python"
   ]
  },
  {
   "cell_type": "code",
   "execution_count": 3,
   "id": "60c8614c",
   "metadata": {},
   "outputs": [],
   "source": [
    "import numpy as np"
   ]
  },
  {
   "cell_type": "code",
   "execution_count": 4,
   "id": "dba14825",
   "metadata": {},
   "outputs": [],
   "source": [
    "# one dimentional array"
   ]
  },
  {
   "cell_type": "code",
   "execution_count": 5,
   "id": "f24ad0bc",
   "metadata": {},
   "outputs": [
    {
     "data": {
      "text/plain": [
       "array([1, 2, 3, 4, 5, 6])"
      ]
     },
     "execution_count": 5,
     "metadata": {},
     "output_type": "execute_result"
    }
   ],
   "source": [
    "np.array([1,2,3,4,5,6])"
   ]
  },
  {
   "cell_type": "code",
   "execution_count": 6,
   "id": "be3f87e4",
   "metadata": {
    "scrolled": true
   },
   "outputs": [
    {
     "data": {
      "text/plain": [
       "numpy.ndarray"
      ]
     },
     "execution_count": 6,
     "metadata": {},
     "output_type": "execute_result"
    }
   ],
   "source": [
    "type(np.array([1,2,3,4,5,6]))"
   ]
  },
  {
   "cell_type": "code",
   "execution_count": 7,
   "id": "1756d490",
   "metadata": {
    "scrolled": true
   },
   "outputs": [
    {
     "data": {
      "text/plain": [
       "array(['1', '2', '3', 'priya', '(4+5j)'], dtype='<U64')"
      ]
     },
     "execution_count": 7,
     "metadata": {},
     "output_type": "execute_result"
    }
   ],
   "source": [
    "np.array([1,2,3,\"priya\",4+5j])"
   ]
  },
  {
   "cell_type": "code",
   "execution_count": 8,
   "id": "18d3abac",
   "metadata": {},
   "outputs": [],
   "source": [
    "# upcasting - in the given example some data have integer datatype and some have float\n",
    "# so numpy convert the integer datatype value into the float datatype"
   ]
  },
  {
   "cell_type": "code",
   "execution_count": 9,
   "id": "8aba1262",
   "metadata": {
    "scrolled": true
   },
   "outputs": [
    {
     "data": {
      "text/plain": [
       "array([1. , 2. , 3.2, 2.5])"
      ]
     },
     "execution_count": 9,
     "metadata": {},
     "output_type": "execute_result"
    }
   ],
   "source": [
    "np.array([1,2,3.2,2.5])"
   ]
  },
  {
   "cell_type": "code",
   "execution_count": 10,
   "id": "df7d40b4",
   "metadata": {},
   "outputs": [],
   "source": [
    "# upcasting - integer datatype is converted into the string datatype"
   ]
  },
  {
   "cell_type": "code",
   "execution_count": 11,
   "id": "b30878e1",
   "metadata": {
    "scrolled": true
   },
   "outputs": [
    {
     "data": {
      "text/plain": [
       "array(['priya', 'shivaji', '1', '2', '3', '4'], dtype='<U11')"
      ]
     },
     "execution_count": 11,
     "metadata": {},
     "output_type": "execute_result"
    }
   ],
   "source": [
    "np.array([\"priya\",\"shivaji\",1,2,3,4])"
   ]
  },
  {
   "cell_type": "code",
   "execution_count": 12,
   "id": "0e5fd0bf",
   "metadata": {},
   "outputs": [],
   "source": [
    "# two dimentional array"
   ]
  },
  {
   "cell_type": "code",
   "execution_count": 13,
   "id": "e0aafcad",
   "metadata": {
    "scrolled": false
   },
   "outputs": [
    {
     "data": {
      "text/plain": [
       "array([[1, 3],\n",
       "       [5, 6],\n",
       "       [7, 8]])"
      ]
     },
     "execution_count": 13,
     "metadata": {},
     "output_type": "execute_result"
    }
   ],
   "source": [
    "np.array([[1,3],\n",
    "          [5,6],\n",
    "         [7,8]])"
   ]
  },
  {
   "cell_type": "code",
   "execution_count": 14,
   "id": "b1591683",
   "metadata": {},
   "outputs": [],
   "source": [
    " # three dimentiona array"
   ]
  },
  {
   "cell_type": "code",
   "execution_count": 15,
   "id": "ed5d8e86",
   "metadata": {
    "scrolled": true
   },
   "outputs": [
    {
     "data": {
      "text/plain": [
       "array([[[1, 2],\n",
       "        [3, 4]],\n",
       "\n",
       "       [[5, 6],\n",
       "        [7, 8]]])"
      ]
     },
     "execution_count": 15,
     "metadata": {},
     "output_type": "execute_result"
    }
   ],
   "source": [
    "np.array([[[1,2],[3,4]],[[5,6],[7,8]]])"
   ]
  },
  {
   "cell_type": "code",
   "execution_count": 16,
   "id": "80fef601",
   "metadata": {},
   "outputs": [],
   "source": [
    "# four dimentional array\n",
    "# ndmin are used for the to decide the dimention of the array"
   ]
  },
  {
   "cell_type": "code",
   "execution_count": 17,
   "id": "dce4df64",
   "metadata": {},
   "outputs": [
    {
     "data": {
      "text/plain": [
       "array([[[[1, 2, 3, 4]]]])"
      ]
     },
     "execution_count": 17,
     "metadata": {},
     "output_type": "execute_result"
    }
   ],
   "source": [
    "np.array([1,2,3,4], ndmin = 4)"
   ]
  },
  {
   "cell_type": "code",
   "execution_count": 18,
   "id": "3b0614bb",
   "metadata": {
    "scrolled": true
   },
   "outputs": [
    {
     "data": {
      "text/plain": [
       "array([[1, 2, 3, 4]])"
      ]
     },
     "execution_count": 18,
     "metadata": {},
     "output_type": "execute_result"
    }
   ],
   "source": [
    "np.array([1,2,3,4], ndmin = 2)"
   ]
  },
  {
   "cell_type": "code",
   "execution_count": 19,
   "id": "0e09dfc1",
   "metadata": {},
   "outputs": [],
   "source": [
    "# chnage the datatype of the array element by using the dtype function"
   ]
  },
  {
   "cell_type": "code",
   "execution_count": 20,
   "id": "05d74ab9",
   "metadata": {},
   "outputs": [],
   "source": [
    "# here change the datatype integer to the complex number"
   ]
  },
  {
   "cell_type": "code",
   "execution_count": 21,
   "id": "fadf6098",
   "metadata": {
    "scrolled": true
   },
   "outputs": [
    {
     "data": {
      "text/plain": [
       "array([1.+0.j, 2.+0.j, 3.+0.j])"
      ]
     },
     "execution_count": 21,
     "metadata": {},
     "output_type": "execute_result"
    }
   ],
   "source": [
    "np.array([1,2,3], dtype = complex)"
   ]
  },
  {
   "cell_type": "code",
   "execution_count": 22,
   "id": "957bf5ff",
   "metadata": {},
   "outputs": [],
   "source": [
    "# change the datatype integer to the float"
   ]
  },
  {
   "cell_type": "code",
   "execution_count": 23,
   "id": "991b5d8f",
   "metadata": {},
   "outputs": [
    {
     "data": {
      "text/plain": [
       "array([1., 2., 3.])"
      ]
     },
     "execution_count": 23,
     "metadata": {},
     "output_type": "execute_result"
    }
   ],
   "source": [
    "np.array([1,2,3], dtype = float)"
   ]
  },
  {
   "cell_type": "code",
   "execution_count": 24,
   "id": "a430c97b",
   "metadata": {},
   "outputs": [],
   "source": [
    "# we can also keep our data  in tuple format\n",
    "# it will give the similar type of output like list"
   ]
  },
  {
   "cell_type": "code",
   "execution_count": 25,
   "id": "5df51341",
   "metadata": {
    "scrolled": true
   },
   "outputs": [
    {
     "data": {
      "text/plain": [
       "array([[1, 2],\n",
       "       [4, 5]])"
      ]
     },
     "execution_count": 25,
     "metadata": {},
     "output_type": "execute_result"
    }
   ],
   "source": [
    "np.array([(1,2),(4,5)])"
   ]
  },
  {
   "cell_type": "code",
   "execution_count": 26,
   "id": "88631c41",
   "metadata": {},
   "outputs": [],
   "source": [
    "arr = np.array([[1,2], [3,4]])"
   ]
  },
  {
   "cell_type": "code",
   "execution_count": 27,
   "id": "1e4be6df",
   "metadata": {},
   "outputs": [
    {
     "data": {
      "text/plain": [
       "array([[1, 2],\n",
       "       [3, 4]])"
      ]
     },
     "execution_count": 27,
     "metadata": {},
     "output_type": "execute_result"
    }
   ],
   "source": [
    "arr"
   ]
  },
  {
   "cell_type": "code",
   "execution_count": 28,
   "id": "1f604f77",
   "metadata": {},
   "outputs": [
    {
     "data": {
      "text/plain": [
       "numpy.int32"
      ]
     },
     "execution_count": 28,
     "metadata": {},
     "output_type": "execute_result"
    }
   ],
   "source": [
    "type(arr[0][0])"
   ]
  },
  {
   "cell_type": "code",
   "execution_count": 29,
   "id": "5dd3e646",
   "metadata": {},
   "outputs": [
    {
     "data": {
      "text/plain": [
       "numpy.int32"
      ]
     },
     "execution_count": 29,
     "metadata": {},
     "output_type": "execute_result"
    }
   ],
   "source": [
    "type(arr[0][1])"
   ]
  },
  {
   "cell_type": "code",
   "execution_count": 30,
   "id": "b174fbb8",
   "metadata": {},
   "outputs": [
    {
     "data": {
      "text/plain": [
       "1"
      ]
     },
     "execution_count": 30,
     "metadata": {},
     "output_type": "execute_result"
    }
   ],
   "source": [
    "arr[0][0]"
   ]
  },
  {
   "cell_type": "code",
   "execution_count": 31,
   "id": "9875a8c2",
   "metadata": {
    "scrolled": false
   },
   "outputs": [
    {
     "data": {
      "text/plain": [
       "2"
      ]
     },
     "execution_count": 31,
     "metadata": {},
     "output_type": "execute_result"
    }
   ],
   "source": [
    "arr[0][1]"
   ]
  },
  {
   "cell_type": "code",
   "execution_count": 32,
   "id": "1ae8a0b9",
   "metadata": {},
   "outputs": [],
   "source": [
    "# access the element of the array"
   ]
  },
  {
   "cell_type": "code",
   "execution_count": 33,
   "id": "fdfa0546",
   "metadata": {},
   "outputs": [],
   "source": [
    "arr1 = np.array([[1,2],[3,4],[5,6]])"
   ]
  },
  {
   "cell_type": "code",
   "execution_count": 34,
   "id": "0388454b",
   "metadata": {
    "scrolled": true
   },
   "outputs": [
    {
     "data": {
      "text/plain": [
       "array([[1, 2],\n",
       "       [3, 4],\n",
       "       [5, 6]])"
      ]
     },
     "execution_count": 34,
     "metadata": {},
     "output_type": "execute_result"
    }
   ],
   "source": [
    "arr1"
   ]
  },
  {
   "cell_type": "code",
   "execution_count": 35,
   "id": "86aef07c",
   "metadata": {},
   "outputs": [],
   "source": [
    "# access the row of the array"
   ]
  },
  {
   "cell_type": "code",
   "execution_count": 36,
   "id": "ef54f22f",
   "metadata": {},
   "outputs": [
    {
     "data": {
      "text/plain": [
       "array([1, 2])"
      ]
     },
     "execution_count": 36,
     "metadata": {},
     "output_type": "execute_result"
    }
   ],
   "source": [
    "arr1[0]"
   ]
  },
  {
   "cell_type": "code",
   "execution_count": 37,
   "id": "9711aea2",
   "metadata": {},
   "outputs": [
    {
     "data": {
      "text/plain": [
       "2"
      ]
     },
     "execution_count": 37,
     "metadata": {},
     "output_type": "execute_result"
    }
   ],
   "source": [
    "arr1[0][1]"
   ]
  },
  {
   "cell_type": "code",
   "execution_count": 38,
   "id": "5a757e38",
   "metadata": {
    "scrolled": true
   },
   "outputs": [
    {
     "data": {
      "text/plain": [
       "numpy.int32"
      ]
     },
     "execution_count": 38,
     "metadata": {},
     "output_type": "execute_result"
    }
   ],
   "source": [
    "type(arr1[0][1])"
   ]
  },
  {
   "cell_type": "code",
   "execution_count": 39,
   "id": "d7974927",
   "metadata": {},
   "outputs": [],
   "source": [
    " # convert the array into the matrix\n",
    "# mat(), matrix() both functions are used to convert the array into matrix"
   ]
  },
  {
   "cell_type": "code",
   "execution_count": 40,
   "id": "659dd2d3",
   "metadata": {
    "scrolled": true
   },
   "outputs": [
    {
     "data": {
      "text/plain": [
       "matrix([[1, 2],\n",
       "        [3, 4],\n",
       "        [5, 6]])"
      ]
     },
     "execution_count": 40,
     "metadata": {},
     "output_type": "execute_result"
    }
   ],
   "source": [
    "np.mat(arr1)"
   ]
  },
  {
   "cell_type": "code",
   "execution_count": 41,
   "id": "f52ab4fe",
   "metadata": {
    "scrolled": true
   },
   "outputs": [],
   "source": [
    "m =np.matrix(arr1)"
   ]
  },
  {
   "cell_type": "code",
   "execution_count": 42,
   "id": "d3721b1f",
   "metadata": {},
   "outputs": [
    {
     "data": {
      "text/plain": [
       "matrix([[1, 2],\n",
       "        [3, 4],\n",
       "        [5, 6]])"
      ]
     },
     "execution_count": 42,
     "metadata": {},
     "output_type": "execute_result"
    }
   ],
   "source": [
    "m"
   ]
  },
  {
   "cell_type": "code",
   "execution_count": 43,
   "id": "84851d03",
   "metadata": {},
   "outputs": [],
   "source": [
    "# convert the list into the array"
   ]
  },
  {
   "cell_type": "code",
   "execution_count": 44,
   "id": "f42219d3",
   "metadata": {},
   "outputs": [],
   "source": [
    "l = [1,2,3,4,5,6]"
   ]
  },
  {
   "cell_type": "code",
   "execution_count": 45,
   "id": "9c4c0db2",
   "metadata": {
    "scrolled": true
   },
   "outputs": [
    {
     "data": {
      "text/plain": [
       "array([1, 2, 3, 4, 5, 6])"
      ]
     },
     "execution_count": 45,
     "metadata": {},
     "output_type": "execute_result"
    }
   ],
   "source": [
    "np.array(l)"
   ]
  },
  {
   "cell_type": "code",
   "execution_count": 46,
   "id": "b7d4bb02",
   "metadata": {},
   "outputs": [
    {
     "data": {
      "text/plain": [
       "array([1, 2, 3, 4, 5, 6])"
      ]
     },
     "execution_count": 46,
     "metadata": {},
     "output_type": "execute_result"
    }
   ],
   "source": [
    "np.asanyarray(l)"
   ]
  },
  {
   "cell_type": "code",
   "execution_count": 47,
   "id": "17f68fc5",
   "metadata": {},
   "outputs": [
    {
     "data": {
      "text/plain": [
       "array([1, 2, 3, 4, 5, 6])"
      ]
     },
     "execution_count": 47,
     "metadata": {},
     "output_type": "execute_result"
    }
   ],
   "source": [
    "np.asarray(l)"
   ]
  },
  {
   "cell_type": "code",
   "execution_count": 48,
   "id": "0b4e2e2a",
   "metadata": {},
   "outputs": [],
   "source": [
    "#  asanyarray() function can not convert the subclass of array into any other type\n",
    "# so matrix is the subtype of the array , asanyarray() function does not change the matrix into array\n",
    "# where as list is not subtype of the array so it will convert into array"
   ]
  },
  {
   "cell_type": "code",
   "execution_count": 49,
   "id": "28b61356",
   "metadata": {
    "scrolled": true
   },
   "outputs": [
    {
     "data": {
      "text/plain": [
       "matrix([[1, 2],\n",
       "        [3, 4],\n",
       "        [5, 6]])"
      ]
     },
     "execution_count": 49,
     "metadata": {},
     "output_type": "execute_result"
    }
   ],
   "source": [
    "np.asanyarray(m)"
   ]
  },
  {
   "cell_type": "code",
   "execution_count": 50,
   "id": "1ad89282",
   "metadata": {},
   "outputs": [],
   "source": [
    "# array() function can convert everything into array"
   ]
  },
  {
   "cell_type": "code",
   "execution_count": 51,
   "id": "cb000f2e",
   "metadata": {
    "scrolled": false
   },
   "outputs": [
    {
     "data": {
      "text/plain": [
       "array([[1, 2],\n",
       "       [3, 4],\n",
       "       [5, 6]])"
      ]
     },
     "execution_count": 51,
     "metadata": {},
     "output_type": "execute_result"
    }
   ],
   "source": [
    "np.array(m)"
   ]
  },
  {
   "cell_type": "code",
   "execution_count": 52,
   "id": "bc526fe8",
   "metadata": {},
   "outputs": [],
   "source": [
    "# asarray() function can be convert everything into array"
   ]
  },
  {
   "cell_type": "code",
   "execution_count": 53,
   "id": "94e517c6",
   "metadata": {
    "scrolled": true
   },
   "outputs": [
    {
     "data": {
      "text/plain": [
       "array([[1, 2],\n",
       "       [3, 4],\n",
       "       [5, 6]])"
      ]
     },
     "execution_count": 53,
     "metadata": {},
     "output_type": "execute_result"
    }
   ],
   "source": [
    "np.asarray(m)"
   ]
  },
  {
   "cell_type": "code",
   "execution_count": 54,
   "id": "f7d02905",
   "metadata": {},
   "outputs": [],
   "source": [
    "# to check the matrix is the subtype of array or not\n",
    "# issubclass is the inbuilt function"
   ]
  },
  {
   "cell_type": "code",
   "execution_count": 55,
   "id": "483d04b4",
   "metadata": {
    "scrolled": true
   },
   "outputs": [
    {
     "data": {
      "text/plain": [
       "True"
      ]
     },
     "execution_count": 55,
     "metadata": {},
     "output_type": "execute_result"
    }
   ],
   "source": [
    "issubclass(np.matrix , np.ndarray)"
   ]
  },
  {
   "cell_type": "code",
   "execution_count": 56,
   "id": "2296199a",
   "metadata": {},
   "outputs": [],
   "source": [
    "# to check the array is the subclass of the matrix or not \n",
    "# array is the parent class of the matrix "
   ]
  },
  {
   "cell_type": "code",
   "execution_count": 57,
   "id": "a8942828",
   "metadata": {
    "scrolled": true
   },
   "outputs": [
    {
     "data": {
      "text/plain": [
       "False"
      ]
     },
     "execution_count": 57,
     "metadata": {},
     "output_type": "execute_result"
    }
   ],
   "source": [
    "issubclass( np.ndarray, np.matrix )"
   ]
  },
  {
   "cell_type": "markdown",
   "id": "e2c1648c",
   "metadata": {},
   "source": [
    "### shallow copy and deep copy"
   ]
  },
  {
   "cell_type": "code",
   "execution_count": 58,
   "id": "d6d14734",
   "metadata": {},
   "outputs": [],
   "source": [
    "# array element is mutable"
   ]
  },
  {
   "cell_type": "code",
   "execution_count": 59,
   "id": "e2f56783",
   "metadata": {
    "scrolled": true
   },
   "outputs": [
    {
     "data": {
      "text/plain": [
       "array([[1, 2],\n",
       "       [3, 4]])"
      ]
     },
     "execution_count": 59,
     "metadata": {},
     "output_type": "execute_result"
    }
   ],
   "source": [
    "arr"
   ]
  },
  {
   "cell_type": "code",
   "execution_count": 60,
   "id": "ebf96d98",
   "metadata": {},
   "outputs": [],
   "source": [
    "a = arr"
   ]
  },
  {
   "cell_type": "code",
   "execution_count": 61,
   "id": "5c562ec5",
   "metadata": {},
   "outputs": [
    {
     "data": {
      "text/plain": [
       "array([[1, 2],\n",
       "       [3, 4]])"
      ]
     },
     "execution_count": 61,
     "metadata": {},
     "output_type": "execute_result"
    }
   ],
   "source": [
    "a"
   ]
  },
  {
   "cell_type": "code",
   "execution_count": 62,
   "id": "2b6521c0",
   "metadata": {},
   "outputs": [],
   "source": [
    "b = np.copy(arr)"
   ]
  },
  {
   "cell_type": "code",
   "execution_count": 63,
   "id": "28749ecd",
   "metadata": {},
   "outputs": [
    {
     "data": {
      "text/plain": [
       "array([[1, 2],\n",
       "       [3, 4]])"
      ]
     },
     "execution_count": 63,
     "metadata": {},
     "output_type": "execute_result"
    }
   ],
   "source": [
    "b"
   ]
  },
  {
   "cell_type": "code",
   "execution_count": 64,
   "id": "d935bed8",
   "metadata": {},
   "outputs": [
    {
     "data": {
      "text/plain": [
       "1"
      ]
     },
     "execution_count": 64,
     "metadata": {},
     "output_type": "execute_result"
    }
   ],
   "source": [
    "arr[0][0]"
   ]
  },
  {
   "cell_type": "code",
   "execution_count": 65,
   "id": "b1c81e9b",
   "metadata": {},
   "outputs": [],
   "source": [
    "arr[0][0]= 54"
   ]
  },
  {
   "cell_type": "code",
   "execution_count": 66,
   "id": "67c42cae",
   "metadata": {},
   "outputs": [],
   "source": [
    "# when we asign the array in the different variable if we change the value of the original array \n",
    "#then it will also change the value of the new array\n",
    "# a refering the same location like arr"
   ]
  },
  {
   "cell_type": "code",
   "execution_count": 67,
   "id": "74942501",
   "metadata": {},
   "outputs": [],
   "source": [
    "#A shallow copy creates a new compound object and then references the objects contained in the original within it\n",
    "# It means that any changes made to a copy of an object do reflect in the original object. "
   ]
  },
  {
   "cell_type": "code",
   "execution_count": 68,
   "id": "1f8f96b2",
   "metadata": {},
   "outputs": [
    {
     "data": {
      "text/plain": [
       "array([[54,  2],\n",
       "       [ 3,  4]])"
      ]
     },
     "execution_count": 68,
     "metadata": {},
     "output_type": "execute_result"
    }
   ],
   "source": [
    "a"
   ]
  },
  {
   "cell_type": "code",
   "execution_count": 69,
   "id": "f80e06c0",
   "metadata": {},
   "outputs": [],
   "source": [
    "# if we copy the array and put the copied array into a one variable \n",
    "# then chnage the value of the original array then it does not change the value of the copied array\n",
    "# b refering the another location(create the new location) so changes does not occure in the b"
   ]
  },
  {
   "cell_type": "code",
   "execution_count": 70,
   "id": "d870d88c",
   "metadata": {},
   "outputs": [],
   "source": [
    "# A deep copy creates a new compound object before inserting copies of the items found in the original into it in a recursive manner.\n",
    "#It means that any changes made to a copy of the object do not reflect in the original object. "
   ]
  },
  {
   "cell_type": "code",
   "execution_count": 71,
   "id": "e69271d0",
   "metadata": {
    "scrolled": true
   },
   "outputs": [
    {
     "data": {
      "text/plain": [
       "array([[1, 2],\n",
       "       [3, 4]])"
      ]
     },
     "execution_count": 71,
     "metadata": {},
     "output_type": "execute_result"
    }
   ],
   "source": [
    "b"
   ]
  },
  {
   "cell_type": "code",
   "execution_count": 72,
   "id": "41ab2788",
   "metadata": {},
   "outputs": [],
   "source": [
    "# access the element from the array"
   ]
  },
  {
   "cell_type": "code",
   "execution_count": 73,
   "id": "4d26b125",
   "metadata": {},
   "outputs": [],
   "source": [
    "# in the arr array only 2 element are present"
   ]
  },
  {
   "cell_type": "code",
   "execution_count": 74,
   "id": "b92b275a",
   "metadata": {
    "scrolled": true
   },
   "outputs": [
    {
     "data": {
      "text/plain": [
       "array([[54,  2],\n",
       "       [ 3,  4]])"
      ]
     },
     "execution_count": 74,
     "metadata": {},
     "output_type": "execute_result"
    }
   ],
   "source": [
    "arr[0:2]"
   ]
  },
  {
   "cell_type": "code",
   "execution_count": 75,
   "id": "14892185",
   "metadata": {
    "scrolled": true
   },
   "outputs": [
    {
     "data": {
      "text/plain": [
       "array([[54,  2],\n",
       "       [ 3,  4]])"
      ]
     },
     "execution_count": 75,
     "metadata": {},
     "output_type": "execute_result"
    }
   ],
   "source": [
    "arr[0:10]"
   ]
  },
  {
   "cell_type": "code",
   "execution_count": 76,
   "id": "77a19ac2",
   "metadata": {},
   "outputs": [
    {
     "data": {
      "text/plain": [
       "array([3, 4])"
      ]
     },
     "execution_count": 76,
     "metadata": {},
     "output_type": "execute_result"
    }
   ],
   "source": [
    "arr[-1]"
   ]
  },
  {
   "cell_type": "code",
   "execution_count": 77,
   "id": "f0adf61b",
   "metadata": {
    "scrolled": true
   },
   "outputs": [
    {
     "name": "stdout",
     "output_type": "stream",
     "text": [
      "[54  2]\n",
      "[3 4]\n"
     ]
    }
   ],
   "source": [
    "for i in arr:\n",
    "    print(i)"
   ]
  },
  {
   "cell_type": "code",
   "execution_count": 78,
   "id": "9868883a",
   "metadata": {
    "scrolled": true
   },
   "outputs": [
    {
     "name": "stdout",
     "output_type": "stream",
     "text": [
      "[1 2]\n",
      "[3 4]\n"
     ]
    }
   ],
   "source": [
    "for i in b:\n",
    "    print(i)"
   ]
  },
  {
   "cell_type": "markdown",
   "id": "f3533caa",
   "metadata": {},
   "source": [
    "### difference between list and numpy array"
   ]
  },
  {
   "cell_type": "code",
   "execution_count": 79,
   "id": "3e610a54",
   "metadata": {},
   "outputs": [],
   "source": [
    "# array - numpy array is the is belongs to the numpy package, all the mathematical formulae inside the numpy is applicable for the numpy array directly.\n",
    "# list -  is the part of the core python"
   ]
  },
  {
   "cell_type": "code",
   "execution_count": 80,
   "id": "cc33965c",
   "metadata": {},
   "outputs": [],
   "source": [
    "# fromfunction ()\n",
    "# in NumPy, the numpy.fromfunction function is used to create an array by applying a specified function \n",
    "#to each coordinate in the resulting array. This can be useful for creating arrays based on mathematical operations \n",
    "#or custom-defined functions. \n",
    "# in this code i= j when it is true then it will display true at the cordinates otherwise it will print the false "
   ]
  },
  {
   "cell_type": "code",
   "execution_count": 81,
   "id": "cf966e97",
   "metadata": {
    "scrolled": true
   },
   "outputs": [
    {
     "data": {
      "text/plain": [
       "array([[ True, False, False, False],\n",
       "       [False,  True, False, False],\n",
       "       [False, False,  True, False],\n",
       "       [False, False, False,  True]])"
      ]
     },
     "execution_count": 81,
     "metadata": {},
     "output_type": "execute_result"
    }
   ],
   "source": [
    "np.fromfunction(lambda i, j: i ==j, (4,4))"
   ]
  },
  {
   "cell_type": "code",
   "execution_count": 82,
   "id": "d2b410e7",
   "metadata": {
    "scrolled": true
   },
   "outputs": [
    {
     "data": {
      "text/plain": [
       "numpy.ndarray"
      ]
     },
     "execution_count": 82,
     "metadata": {},
     "output_type": "execute_result"
    }
   ],
   "source": [
    "type(np.fromfunction(lambda i,j: i==j, (4,4)))"
   ]
  },
  {
   "cell_type": "code",
   "execution_count": 83,
   "id": "babc953d",
   "metadata": {},
   "outputs": [],
   "source": [
    "# here fromfunction are used for the multiply the cordinates of x and y axis"
   ]
  },
  {
   "cell_type": "code",
   "execution_count": 84,
   "id": "9bf36df4",
   "metadata": {
    "scrolled": true
   },
   "outputs": [
    {
     "data": {
      "text/plain": [
       "array([[0., 0., 0.],\n",
       "       [0., 1., 2.],\n",
       "       [0., 2., 4.]])"
      ]
     },
     "execution_count": 84,
     "metadata": {},
     "output_type": "execute_result"
    }
   ],
   "source": [
    "np.fromfunction(lambda i,j : i*j, (3,3))"
   ]
  },
  {
   "cell_type": "code",
   "execution_count": 85,
   "id": "2a61346e",
   "metadata": {},
   "outputs": [],
   "source": [
    " # in numpy 0/0 and 1/0 does not give any error\n",
    "# 0/0 shows the nan and 1/0 shows inf"
   ]
  },
  {
   "cell_type": "code",
   "execution_count": 86,
   "id": "3344d6f2",
   "metadata": {
    "scrolled": true
   },
   "outputs": [
    {
     "name": "stderr",
     "output_type": "stream",
     "text": [
      "C:\\Users\\Priyanka\\AppData\\Local\\Temp\\ipykernel_7916\\2105401307.py:1: RuntimeWarning: divide by zero encountered in divide\n",
      "  np.fromfunction(lambda i,j: i/j, (3,3))\n",
      "C:\\Users\\Priyanka\\AppData\\Local\\Temp\\ipykernel_7916\\2105401307.py:1: RuntimeWarning: invalid value encountered in divide\n",
      "  np.fromfunction(lambda i,j: i/j, (3,3))\n"
     ]
    },
    {
     "data": {
      "text/plain": [
       "array([[nan, 0. , 0. ],\n",
       "       [inf, 1. , 0.5],\n",
       "       [inf, 2. , 1. ]])"
      ]
     },
     "execution_count": 86,
     "metadata": {},
     "output_type": "execute_result"
    }
   ],
   "source": [
    "np.fromfunction(lambda i,j: i/j, (3,3))"
   ]
  },
  {
   "cell_type": "code",
   "execution_count": 87,
   "id": "9a454da6",
   "metadata": {},
   "outputs": [],
   "source": [
    "# generator function - are used to generate the data"
   ]
  },
  {
   "cell_type": "code",
   "execution_count": 88,
   "id": "d88ac992",
   "metadata": {},
   "outputs": [],
   "source": [
    "gen = (i*i for i in range(5))"
   ]
  },
  {
   "cell_type": "code",
   "execution_count": 89,
   "id": "a1578de9",
   "metadata": {},
   "outputs": [
    {
     "data": {
      "text/plain": [
       "<generator object <genexpr> at 0x000001D1FF720D60>"
      ]
     },
     "execution_count": 89,
     "metadata": {},
     "output_type": "execute_result"
    }
   ],
   "source": [
    "gen"
   ]
  },
  {
   "cell_type": "code",
   "execution_count": 90,
   "id": "425cd90d",
   "metadata": {},
   "outputs": [],
   "source": [
    "def test(x):\n",
    "    yield x"
   ]
  },
  {
   "cell_type": "code",
   "execution_count": 91,
   "id": "70980f5d",
   "metadata": {},
   "outputs": [
    {
     "data": {
      "text/plain": [
       "<generator object test at 0x000001D1FF720F20>"
      ]
     },
     "execution_count": 91,
     "metadata": {},
     "output_type": "execute_result"
    }
   ],
   "source": [
    "test(5)"
   ]
  },
  {
   "cell_type": "code",
   "execution_count": 92,
   "id": "5127ed59",
   "metadata": {
    "scrolled": true
   },
   "outputs": [
    {
     "data": {
      "text/plain": [
       "array([ 0,  1,  4,  9, 16])"
      ]
     },
     "execution_count": 92,
     "metadata": {},
     "output_type": "execute_result"
    }
   ],
   "source": [
    "np.fromiter(gen, dtype= int)"
   ]
  },
  {
   "cell_type": "code",
   "execution_count": 93,
   "id": "71507c2b",
   "metadata": {},
   "outputs": [],
   "source": [
    "# range is also generator function "
   ]
  },
  {
   "cell_type": "code",
   "execution_count": 94,
   "id": "685e7fa3",
   "metadata": {
    "scrolled": true
   },
   "outputs": [
    {
     "data": {
      "text/plain": [
       "array([0., 1., 2., 3., 4.])"
      ]
     },
     "execution_count": 94,
     "metadata": {},
     "output_type": "execute_result"
    }
   ],
   "source": [
    "np.fromiter(range(5), dtype= float)"
   ]
  },
  {
   "cell_type": "code",
   "execution_count": 95,
   "id": "6f86f6ff",
   "metadata": {},
   "outputs": [],
   "source": [
    "# fromstring() function \n"
   ]
  },
  {
   "cell_type": "code",
   "execution_count": 96,
   "id": "49ed410a",
   "metadata": {
    "scrolled": true
   },
   "outputs": [
    {
     "data": {
      "text/plain": [
       "array([1, 2, 3, 4, 5])"
      ]
     },
     "execution_count": 96,
     "metadata": {},
     "output_type": "execute_result"
    }
   ],
   "source": [
    "np.fromstring('1,2,3,4,5', sep = \",\", dtype = int)"
   ]
  },
  {
   "cell_type": "code",
   "execution_count": 97,
   "id": "2cf08826",
   "metadata": {
    "scrolled": false
   },
   "outputs": [
    {
     "data": {
      "text/plain": [
       "array([123, 456, 789])"
      ]
     },
     "execution_count": 97,
     "metadata": {},
     "output_type": "execute_result"
    }
   ],
   "source": [
    "np.fromstring(\"123 456 789\", sep = \" \", dtype = int)"
   ]
  },
  {
   "cell_type": "code",
   "execution_count": 98,
   "id": "9d47f792",
   "metadata": {
    "scrolled": false
   },
   "outputs": [
    {
     "data": {
      "text/plain": [
       "array([123.+0.j, 456.+0.j, 789.+0.j])"
      ]
     },
     "execution_count": 98,
     "metadata": {},
     "output_type": "execute_result"
    }
   ],
   "source": [
    "np.fromstring(\"123 456 789\", sep = \" \", dtype = complex)"
   ]
  },
  {
   "cell_type": "code",
   "execution_count": 99,
   "id": "eea93af3",
   "metadata": {},
   "outputs": [
    {
     "data": {
      "text/plain": [
       "array([1, 2, 3, 4, 5])"
      ]
     },
     "execution_count": 99,
     "metadata": {},
     "output_type": "execute_result"
    }
   ],
   "source": [
    "np.fromstring('1 2 3 4 5', sep = \" \", dtype = int)"
   ]
  },
  {
   "cell_type": "code",
   "execution_count": 100,
   "id": "70890ea6",
   "metadata": {},
   "outputs": [],
   "source": [
    "arr1 = np.array([[1,2,3],[4,5,6],[7,8,9]])"
   ]
  },
  {
   "cell_type": "code",
   "execution_count": 101,
   "id": "28c36edc",
   "metadata": {},
   "outputs": [
    {
     "data": {
      "text/plain": [
       "array([[1, 2, 3],\n",
       "       [4, 5, 6],\n",
       "       [7, 8, 9]])"
      ]
     },
     "execution_count": 101,
     "metadata": {},
     "output_type": "execute_result"
    }
   ],
   "source": [
    "arr1"
   ]
  },
  {
   "cell_type": "code",
   "execution_count": 102,
   "id": "ed764184",
   "metadata": {},
   "outputs": [
    {
     "data": {
      "text/plain": [
       "numpy.ndarray"
      ]
     },
     "execution_count": 102,
     "metadata": {},
     "output_type": "execute_result"
    }
   ],
   "source": [
    "type(arr1)"
   ]
  },
  {
   "cell_type": "code",
   "execution_count": 103,
   "id": "d5225d58",
   "metadata": {},
   "outputs": [],
   "source": [
    "# ndim function are used to determine the dimension of the given array"
   ]
  },
  {
   "cell_type": "code",
   "execution_count": 104,
   "id": "91b8b7dd",
   "metadata": {
    "scrolled": true
   },
   "outputs": [
    {
     "data": {
      "text/plain": [
       "2"
      ]
     },
     "execution_count": 104,
     "metadata": {},
     "output_type": "execute_result"
    }
   ],
   "source": [
    "arr1.ndim"
   ]
  },
  {
   "cell_type": "code",
   "execution_count": 105,
   "id": "8c01ec2c",
   "metadata": {},
   "outputs": [],
   "source": [
    "# size function are used to determine the total no.of element in the given array"
   ]
  },
  {
   "cell_type": "code",
   "execution_count": 106,
   "id": "95e39249",
   "metadata": {
    "scrolled": true
   },
   "outputs": [
    {
     "data": {
      "text/plain": [
       "9"
      ]
     },
     "execution_count": 106,
     "metadata": {},
     "output_type": "execute_result"
    }
   ],
   "source": [
    "arr1.size"
   ]
  },
  {
   "cell_type": "code",
   "execution_count": 107,
   "id": "8ee67b5a",
   "metadata": {},
   "outputs": [],
   "source": [
    "# shape function are used for determine the no.of rows and no.of columns in the array (i.e nXn)"
   ]
  },
  {
   "cell_type": "code",
   "execution_count": 108,
   "id": "9ef964cf",
   "metadata": {
    "scrolled": true
   },
   "outputs": [
    {
     "data": {
      "text/plain": [
       "(3, 3)"
      ]
     },
     "execution_count": 108,
     "metadata": {},
     "output_type": "execute_result"
    }
   ],
   "source": [
    "arr1.shape"
   ]
  },
  {
   "cell_type": "code",
   "execution_count": 109,
   "id": "4dae063e",
   "metadata": {},
   "outputs": [
    {
     "data": {
      "text/plain": [
       "dtype('int32')"
      ]
     },
     "execution_count": 109,
     "metadata": {},
     "output_type": "execute_result"
    }
   ],
   "source": [
    "arr1.dtype"
   ]
  },
  {
   "cell_type": "code",
   "execution_count": 110,
   "id": "ffd6ef21",
   "metadata": {},
   "outputs": [
    {
     "data": {
      "text/plain": [
       "array([[54,  2],\n",
       "       [ 3,  4]])"
      ]
     },
     "execution_count": 110,
     "metadata": {},
     "output_type": "execute_result"
    }
   ],
   "source": [
    "arr"
   ]
  },
  {
   "cell_type": "code",
   "execution_count": 111,
   "id": "92da70e5",
   "metadata": {},
   "outputs": [
    {
     "data": {
      "text/plain": [
       "4"
      ]
     },
     "execution_count": 111,
     "metadata": {},
     "output_type": "execute_result"
    }
   ],
   "source": [
    "arr.size"
   ]
  },
  {
   "cell_type": "code",
   "execution_count": 112,
   "id": "5da33977",
   "metadata": {
    "scrolled": true
   },
   "outputs": [
    {
     "data": {
      "text/plain": [
       "(2, 2)"
      ]
     },
     "execution_count": 112,
     "metadata": {},
     "output_type": "execute_result"
    }
   ],
   "source": [
    "arr.shape"
   ]
  },
  {
   "cell_type": "code",
   "execution_count": 113,
   "id": "36ff1aca",
   "metadata": {
    "scrolled": false
   },
   "outputs": [
    {
     "data": {
      "text/plain": [
       "2"
      ]
     },
     "execution_count": 113,
     "metadata": {},
     "output_type": "execute_result"
    }
   ],
   "source": [
    "arr.ndim"
   ]
  },
  {
   "cell_type": "code",
   "execution_count": 114,
   "id": "0545fcf4",
   "metadata": {},
   "outputs": [
    {
     "data": {
      "text/plain": [
       "dtype('int32')"
      ]
     },
     "execution_count": 114,
     "metadata": {},
     "output_type": "execute_result"
    }
   ],
   "source": [
    "arr.dtype"
   ]
  },
  {
   "cell_type": "code",
   "execution_count": 115,
   "id": "08467966",
   "metadata": {},
   "outputs": [],
   "source": [
    "# 3 dimentional array"
   ]
  },
  {
   "cell_type": "code",
   "execution_count": 116,
   "id": "f5eb71ec",
   "metadata": {},
   "outputs": [],
   "source": [
    "arr2 = np.array([[[1,2,3,4],[5,6,7,8]], [[4,3,2,1],[8,7,6,5]]])"
   ]
  },
  {
   "cell_type": "code",
   "execution_count": 117,
   "id": "742fd63f",
   "metadata": {
    "scrolled": true
   },
   "outputs": [
    {
     "data": {
      "text/plain": [
       "array([[[1, 2, 3, 4],\n",
       "        [5, 6, 7, 8]],\n",
       "\n",
       "       [[4, 3, 2, 1],\n",
       "        [8, 7, 6, 5]]])"
      ]
     },
     "execution_count": 117,
     "metadata": {},
     "output_type": "execute_result"
    }
   ],
   "source": [
    "arr2"
   ]
  },
  {
   "cell_type": "code",
   "execution_count": 118,
   "id": "038c2bca",
   "metadata": {
    "scrolled": true
   },
   "outputs": [
    {
     "data": {
      "text/plain": [
       "16"
      ]
     },
     "execution_count": 118,
     "metadata": {},
     "output_type": "execute_result"
    }
   ],
   "source": [
    "arr2.size"
   ]
  },
  {
   "cell_type": "code",
   "execution_count": 119,
   "id": "c00a2dd0",
   "metadata": {},
   "outputs": [
    {
     "data": {
      "text/plain": [
       "3"
      ]
     },
     "execution_count": 119,
     "metadata": {},
     "output_type": "execute_result"
    }
   ],
   "source": [
    "arr2.ndim"
   ]
  },
  {
   "cell_type": "code",
   "execution_count": 120,
   "id": "95fee30b",
   "metadata": {},
   "outputs": [],
   "source": [
    "# in shape of the array (2,2,4) first 2 represented no.of array, second 2 represnts no.of row, and 4 represented no.of column in the array \n",
    "# we have 2 array of the 2X4 size"
   ]
  },
  {
   "cell_type": "code",
   "execution_count": 121,
   "id": "90a0ab00",
   "metadata": {
    "scrolled": false
   },
   "outputs": [
    {
     "data": {
      "text/plain": [
       "(2, 2, 4)"
      ]
     },
     "execution_count": 121,
     "metadata": {},
     "output_type": "execute_result"
    }
   ],
   "source": [
    "arr2.shape"
   ]
  },
  {
   "cell_type": "code",
   "execution_count": 122,
   "id": "ee90fbd8",
   "metadata": {},
   "outputs": [],
   "source": [
    "# 4 dimensional array"
   ]
  },
  {
   "cell_type": "code",
   "execution_count": 123,
   "id": "14309233",
   "metadata": {},
   "outputs": [],
   "source": [
    "arr3 = np.array([[[[1,2,3,4],[5,6,7,8]], [[4,3,2,1],[8,7,6,5]],[[9,6,3,2],[8,5,2,1]],[[8,4,1,0],[9,5,1,0]]]])"
   ]
  },
  {
   "cell_type": "code",
   "execution_count": 124,
   "id": "dedb79af",
   "metadata": {
    "scrolled": false
   },
   "outputs": [
    {
     "data": {
      "text/plain": [
       "array([[[[1, 2, 3, 4],\n",
       "         [5, 6, 7, 8]],\n",
       "\n",
       "        [[4, 3, 2, 1],\n",
       "         [8, 7, 6, 5]],\n",
       "\n",
       "        [[9, 6, 3, 2],\n",
       "         [8, 5, 2, 1]],\n",
       "\n",
       "        [[8, 4, 1, 0],\n",
       "         [9, 5, 1, 0]]]])"
      ]
     },
     "execution_count": 124,
     "metadata": {},
     "output_type": "execute_result"
    }
   ],
   "source": [
    "arr3"
   ]
  },
  {
   "cell_type": "code",
   "execution_count": 125,
   "id": "fc4c2794",
   "metadata": {
    "scrolled": true
   },
   "outputs": [
    {
     "data": {
      "text/plain": [
       "4"
      ]
     },
     "execution_count": 125,
     "metadata": {},
     "output_type": "execute_result"
    }
   ],
   "source": [
    "arr3.ndim"
   ]
  },
  {
   "cell_type": "code",
   "execution_count": 126,
   "id": "015798ca",
   "metadata": {},
   "outputs": [],
   "source": [
    "# the shape of array (1,4,2,4) represented their are four 2X4 array which are represented in one"
   ]
  },
  {
   "cell_type": "code",
   "execution_count": 127,
   "id": "54dbefcd",
   "metadata": {
    "scrolled": true
   },
   "outputs": [
    {
     "data": {
      "text/plain": [
       "(1, 4, 2, 4)"
      ]
     },
     "execution_count": 127,
     "metadata": {},
     "output_type": "execute_result"
    }
   ],
   "source": [
    "arr3.shape"
   ]
  },
  {
   "cell_type": "code",
   "execution_count": 128,
   "id": "27b3c7b3",
   "metadata": {
    "scrolled": true
   },
   "outputs": [
    {
     "data": {
      "text/plain": [
       "32"
      ]
     },
     "execution_count": 128,
     "metadata": {},
     "output_type": "execute_result"
    }
   ],
   "source": [
    "arr3.size"
   ]
  },
  {
   "cell_type": "code",
   "execution_count": 129,
   "id": "2ff5398b",
   "metadata": {},
   "outputs": [],
   "source": [
    "# range() function"
   ]
  },
  {
   "cell_type": "code",
   "execution_count": 130,
   "id": "c016b5c2",
   "metadata": {
    "scrolled": true
   },
   "outputs": [
    {
     "data": {
      "text/plain": [
       "range(0, 5)"
      ]
     },
     "execution_count": 130,
     "metadata": {},
     "output_type": "execute_result"
    }
   ],
   "source": [
    "range(5)"
   ]
  },
  {
   "cell_type": "code",
   "execution_count": 131,
   "id": "2b185bda",
   "metadata": {
    "scrolled": true
   },
   "outputs": [
    {
     "data": {
      "text/plain": [
       "[0, 1, 2, 3, 4]"
      ]
     },
     "execution_count": 131,
     "metadata": {},
     "output_type": "execute_result"
    }
   ],
   "source": [
    "list(range(5))"
   ]
  },
  {
   "cell_type": "code",
   "execution_count": 132,
   "id": "3627bb34",
   "metadata": {},
   "outputs": [],
   "source": [
    "# we can not creat the the list of the any float number i.e list(range(6.6))\n",
    "# but in numpy their is the function arange() which can produce a list of the float number\n",
    "# arange function similar to the range function except the float number\n"
   ]
  },
  {
   "cell_type": "code",
   "execution_count": 133,
   "id": "e2a2a5a8",
   "metadata": {
    "scrolled": false
   },
   "outputs": [
    {
     "data": {
      "text/plain": [
       "array([0., 1., 2., 3., 4., 5., 6.])"
      ]
     },
     "execution_count": 133,
     "metadata": {},
     "output_type": "execute_result"
    }
   ],
   "source": [
    "np.arange(6.6)"
   ]
  },
  {
   "cell_type": "code",
   "execution_count": 134,
   "id": "f4aef1f5",
   "metadata": {},
   "outputs": [],
   "source": [
    "# in list we can start, end and step the element integer only\n",
    "# but in the numpy arange function are used for the handling the data in float nature"
   ]
  },
  {
   "cell_type": "code",
   "execution_count": 135,
   "id": "7c31ab90",
   "metadata": {
    "scrolled": true
   },
   "outputs": [
    {
     "data": {
      "text/plain": [
       "array([1.5, 2. , 2.5, 3. , 3.5, 4. , 4.5, 5. ])"
      ]
     },
     "execution_count": 135,
     "metadata": {},
     "output_type": "execute_result"
    }
   ],
   "source": [
    "np.arange(1.5, 5.5,0.5)"
   ]
  },
  {
   "cell_type": "code",
   "execution_count": 136,
   "id": "242e85a1",
   "metadata": {},
   "outputs": [
    {
     "data": {
      "text/plain": [
       "array([9. , 8.5, 8. , 7.5, 7. , 6.5, 6. , 5.5])"
      ]
     },
     "execution_count": 136,
     "metadata": {},
     "output_type": "execute_result"
    }
   ],
   "source": [
    "np.arange(9,5,-0.5)"
   ]
  },
  {
   "cell_type": "code",
   "execution_count": 137,
   "id": "a7a00d38",
   "metadata": {},
   "outputs": [
    {
     "data": {
      "text/plain": [
       "array([1, 2, 3, 4, 5])"
      ]
     },
     "execution_count": 137,
     "metadata": {},
     "output_type": "execute_result"
    }
   ],
   "source": [
    "np.arange(1,6)"
   ]
  },
  {
   "cell_type": "code",
   "execution_count": 138,
   "id": "81137a92",
   "metadata": {},
   "outputs": [],
   "source": [
    "# linspace() function\n",
    "# linspace is an in-built function in Python's NumPy library.\n",
    "# It is used to create an evenly spaced sequence in a specified interval."
   ]
  },
  {
   "cell_type": "code",
   "execution_count": 139,
   "id": "73d0a38c",
   "metadata": {
    "scrolled": false
   },
   "outputs": [
    {
     "data": {
      "text/plain": [
       "array([1.        , 1.08163265, 1.16326531, 1.24489796, 1.32653061,\n",
       "       1.40816327, 1.48979592, 1.57142857, 1.65306122, 1.73469388,\n",
       "       1.81632653, 1.89795918, 1.97959184, 2.06122449, 2.14285714,\n",
       "       2.2244898 , 2.30612245, 2.3877551 , 2.46938776, 2.55102041,\n",
       "       2.63265306, 2.71428571, 2.79591837, 2.87755102, 2.95918367,\n",
       "       3.04081633, 3.12244898, 3.20408163, 3.28571429, 3.36734694,\n",
       "       3.44897959, 3.53061224, 3.6122449 , 3.69387755, 3.7755102 ,\n",
       "       3.85714286, 3.93877551, 4.02040816, 4.10204082, 4.18367347,\n",
       "       4.26530612, 4.34693878, 4.42857143, 4.51020408, 4.59183673,\n",
       "       4.67346939, 4.75510204, 4.83673469, 4.91836735, 5.        ])"
      ]
     },
     "execution_count": 139,
     "metadata": {},
     "output_type": "execute_result"
    }
   ],
   "source": [
    "np.linspace(1,5)"
   ]
  },
  {
   "cell_type": "code",
   "execution_count": 140,
   "id": "8c363a8a",
   "metadata": {
    "scrolled": true
   },
   "outputs": [
    {
     "data": {
      "text/plain": [
       "array([1.        , 1.02040816, 1.04081633, 1.06122449, 1.08163265,\n",
       "       1.10204082, 1.12244898, 1.14285714, 1.16326531, 1.18367347,\n",
       "       1.20408163, 1.2244898 , 1.24489796, 1.26530612, 1.28571429,\n",
       "       1.30612245, 1.32653061, 1.34693878, 1.36734694, 1.3877551 ,\n",
       "       1.40816327, 1.42857143, 1.44897959, 1.46938776, 1.48979592,\n",
       "       1.51020408, 1.53061224, 1.55102041, 1.57142857, 1.59183673,\n",
       "       1.6122449 , 1.63265306, 1.65306122, 1.67346939, 1.69387755,\n",
       "       1.71428571, 1.73469388, 1.75510204, 1.7755102 , 1.79591837,\n",
       "       1.81632653, 1.83673469, 1.85714286, 1.87755102, 1.89795918,\n",
       "       1.91836735, 1.93877551, 1.95918367, 1.97959184, 2.        ])"
      ]
     },
     "execution_count": 140,
     "metadata": {},
     "output_type": "execute_result"
    }
   ],
   "source": [
    "np.linspace(1,2)"
   ]
  },
  {
   "cell_type": "code",
   "execution_count": 141,
   "id": "7fb43ec2",
   "metadata": {
    "scrolled": true
   },
   "outputs": [
    {
     "data": {
      "text/plain": [
       "array([1.  , 1.25, 1.5 , 1.75, 2.  ])"
      ]
     },
     "execution_count": 141,
     "metadata": {},
     "output_type": "execute_result"
    }
   ],
   "source": [
    "np.linspace(1,2,5)"
   ]
  },
  {
   "cell_type": "code",
   "execution_count": 142,
   "id": "0312bf4e",
   "metadata": {
    "scrolled": true
   },
   "outputs": [
    {
     "data": {
      "text/plain": [
       "array([ 1.,  4.,  7., 10.])"
      ]
     },
     "execution_count": 142,
     "metadata": {},
     "output_type": "execute_result"
    }
   ],
   "source": [
    "np.linspace(1,10,4)"
   ]
  },
  {
   "cell_type": "code",
   "execution_count": 143,
   "id": "440e3d73",
   "metadata": {
    "scrolled": true
   },
   "outputs": [
    {
     "data": {
      "text/plain": [
       "array([ 1.  ,  3.25,  5.5 ,  7.75, 10.  ])"
      ]
     },
     "execution_count": 143,
     "metadata": {},
     "output_type": "execute_result"
    }
   ],
   "source": [
    "np.linspace(1,10,5)"
   ]
  },
  {
   "cell_type": "code",
   "execution_count": 144,
   "id": "ea363214",
   "metadata": {},
   "outputs": [],
   "source": [
    "# zeros() fuction in the numpy\n",
    "# this function are used for generate the array which contain only zeros"
   ]
  },
  {
   "cell_type": "code",
   "execution_count": 145,
   "id": "06721dc9",
   "metadata": {
    "scrolled": true
   },
   "outputs": [
    {
     "data": {
      "text/plain": [
       "array([0., 0., 0., 0., 0.])"
      ]
     },
     "execution_count": 145,
     "metadata": {},
     "output_type": "execute_result"
    }
   ],
   "source": [
    "np.zeros(5)"
   ]
  },
  {
   "cell_type": "code",
   "execution_count": 146,
   "id": "3e646947",
   "metadata": {
    "scrolled": true
   },
   "outputs": [
    {
     "data": {
      "text/plain": [
       "array([[0., 0., 0., 0., 0.],\n",
       "       [0., 0., 0., 0., 0.]])"
      ]
     },
     "execution_count": 146,
     "metadata": {},
     "output_type": "execute_result"
    }
   ],
   "source": [
    "np.zeros([2,5])"
   ]
  },
  {
   "cell_type": "code",
   "execution_count": 147,
   "id": "dc038802",
   "metadata": {
    "scrolled": true
   },
   "outputs": [
    {
     "data": {
      "text/plain": [
       "array([[[0., 0.],\n",
       "        [0., 0.],\n",
       "        [0., 0.],\n",
       "        [0., 0.],\n",
       "        [0., 0.]],\n",
       "\n",
       "       [[0., 0.],\n",
       "        [0., 0.],\n",
       "        [0., 0.],\n",
       "        [0., 0.],\n",
       "        [0., 0.]]])"
      ]
     },
     "execution_count": 147,
     "metadata": {},
     "output_type": "execute_result"
    }
   ],
   "source": [
    "np.zeros([2,5,2])"
   ]
  },
  {
   "cell_type": "code",
   "execution_count": 148,
   "id": "a1f3d883",
   "metadata": {},
   "outputs": [],
   "source": [
    "# ones() function\n",
    "# this function are used for creating the array with value 1"
   ]
  },
  {
   "cell_type": "code",
   "execution_count": 149,
   "id": "447cd8a9",
   "metadata": {},
   "outputs": [
    {
     "data": {
      "text/plain": [
       "array([1., 1., 1., 1.])"
      ]
     },
     "execution_count": 149,
     "metadata": {},
     "output_type": "execute_result"
    }
   ],
   "source": [
    "np.ones(4)"
   ]
  },
  {
   "cell_type": "code",
   "execution_count": 150,
   "id": "5c16c14e",
   "metadata": {
    "scrolled": false
   },
   "outputs": [
    {
     "data": {
      "text/plain": [
       "array([[1., 1., 1.],\n",
       "       [1., 1., 1.]])"
      ]
     },
     "execution_count": 150,
     "metadata": {},
     "output_type": "execute_result"
    }
   ],
   "source": [
    "np.ones([2,3])"
   ]
  },
  {
   "cell_type": "code",
   "execution_count": 151,
   "id": "38eeeff5",
   "metadata": {
    "scrolled": true
   },
   "outputs": [
    {
     "data": {
      "text/plain": [
       "array([[[1., 1.],\n",
       "        [1., 1.],\n",
       "        [1., 1.]],\n",
       "\n",
       "       [[1., 1.],\n",
       "        [1., 1.],\n",
       "        [1., 1.]],\n",
       "\n",
       "       [[1., 1.],\n",
       "        [1., 1.],\n",
       "        [1., 1.]]])"
      ]
     },
     "execution_count": 151,
     "metadata": {},
     "output_type": "execute_result"
    }
   ],
   "source": [
    "np.ones([3, 3,2])"
   ]
  },
  {
   "cell_type": "code",
   "execution_count": 152,
   "id": "002d64ad",
   "metadata": {},
   "outputs": [],
   "source": [
    "# addition of the 5 in each element of the array"
   ]
  },
  {
   "cell_type": "code",
   "execution_count": 153,
   "id": "7d4b6768",
   "metadata": {
    "scrolled": false
   },
   "outputs": [
    {
     "data": {
      "text/plain": [
       "array([[[6., 6.],\n",
       "        [6., 6.],\n",
       "        [6., 6.]],\n",
       "\n",
       "       [[6., 6.],\n",
       "        [6., 6.],\n",
       "        [6., 6.]],\n",
       "\n",
       "       [[6., 6.],\n",
       "        [6., 6.],\n",
       "        [6., 6.]]])"
      ]
     },
     "execution_count": 153,
     "metadata": {},
     "output_type": "execute_result"
    }
   ],
   "source": [
    "np.ones([3, 3,2]) +5"
   ]
  },
  {
   "cell_type": "code",
   "execution_count": 154,
   "id": "57a39a79",
   "metadata": {},
   "outputs": [
    {
     "data": {
      "text/plain": [
       "array([0., 0., 0., 0., 0.])"
      ]
     },
     "execution_count": 154,
     "metadata": {},
     "output_type": "execute_result"
    }
   ],
   "source": [
    "np.empty(5)"
   ]
  },
  {
   "cell_type": "code",
   "execution_count": 155,
   "id": "bee078a1",
   "metadata": {
    "scrolled": true
   },
   "outputs": [
    {
     "data": {
      "text/plain": [
       "array([[9.88778011e-312, 3.16202013e-322, 0.00000000e+000,\n",
       "        0.00000000e+000],\n",
       "       [1.08221785e-312, 1.35104624e+161, 4.75177087e-037,\n",
       "        1.23189154e+165],\n",
       "       [5.69976191e-038, 9.39623604e+165, 1.70459790e+160,\n",
       "        2.05908074e+184]])"
      ]
     },
     "execution_count": 155,
     "metadata": {},
     "output_type": "execute_result"
    }
   ],
   "source": [
    "np.empty([3,4])"
   ]
  },
  {
   "cell_type": "code",
   "execution_count": 156,
   "id": "e2066d34",
   "metadata": {},
   "outputs": [],
   "source": [
    "# eye() function in Python is used to return a two-dimensional array \n",
    "# with ones (1) on the diagonal and zeros (0) elsewhere."
   ]
  },
  {
   "cell_type": "code",
   "execution_count": 157,
   "id": "d523e6dd",
   "metadata": {},
   "outputs": [
    {
     "data": {
      "text/plain": [
       "array([[1., 0., 0.],\n",
       "       [0., 1., 0.],\n",
       "       [0., 0., 1.]])"
      ]
     },
     "execution_count": 157,
     "metadata": {},
     "output_type": "execute_result"
    }
   ],
   "source": [
    "np.eye(3)"
   ]
  },
  {
   "cell_type": "code",
   "execution_count": 158,
   "id": "5c7263b7",
   "metadata": {
    "scrolled": true
   },
   "outputs": [
    {
     "data": {
      "text/plain": [
       "array([[1., 0., 0., 0., 0.],\n",
       "       [0., 1., 0., 0., 0.],\n",
       "       [0., 0., 1., 0., 0.],\n",
       "       [0., 0., 0., 1., 0.],\n",
       "       [0., 0., 0., 0., 1.]])"
      ]
     },
     "execution_count": 158,
     "metadata": {},
     "output_type": "execute_result"
    }
   ],
   "source": [
    "np.eye(5)"
   ]
  },
  {
   "cell_type": "code",
   "execution_count": 159,
   "id": "5496586c",
   "metadata": {
    "scrolled": true
   },
   "outputs": [
    {
     "data": {
      "text/plain": [
       "array([2.        , 2.66666667, 3.33333333, 4.        ])"
      ]
     },
     "execution_count": 159,
     "metadata": {},
     "output_type": "execute_result"
    }
   ],
   "source": [
    "np.linspace(2,4,4)"
   ]
  },
  {
   "cell_type": "code",
   "execution_count": 160,
   "id": "b3742023",
   "metadata": {
    "scrolled": true
   },
   "outputs": [
    {
     "data": {
      "text/plain": [
       "array([2. , 2.5, 3. , 3.5])"
      ]
     },
     "execution_count": 160,
     "metadata": {},
     "output_type": "execute_result"
    }
   ],
   "source": [
    "np.linspace(2,4,4, endpoint =False)"
   ]
  },
  {
   "cell_type": "code",
   "execution_count": 161,
   "id": "18c8dd9d",
   "metadata": {},
   "outputs": [
    {
     "data": {
      "text/plain": [
       "array([2. , 2.5, 3. , 3.5])"
      ]
     },
     "execution_count": 161,
     "metadata": {},
     "output_type": "execute_result"
    }
   ],
   "source": [
    "np.linspace(2,4,4, endpoint = False, axis = 0)"
   ]
  },
  {
   "cell_type": "code",
   "execution_count": 162,
   "id": "2c2a0b76",
   "metadata": {
    "scrolled": true
   },
   "outputs": [
    {
     "data": {
      "text/plain": [
       "array([[2.  , 4.  ],\n",
       "       [2.04, 4.  ],\n",
       "       [2.08, 4.  ],\n",
       "       [2.12, 4.  ],\n",
       "       [2.16, 4.  ],\n",
       "       [2.2 , 4.  ],\n",
       "       [2.24, 4.  ],\n",
       "       [2.28, 4.  ],\n",
       "       [2.32, 4.  ],\n",
       "       [2.36, 4.  ],\n",
       "       [2.4 , 4.  ],\n",
       "       [2.44, 4.  ],\n",
       "       [2.48, 4.  ],\n",
       "       [2.52, 4.  ],\n",
       "       [2.56, 4.  ],\n",
       "       [2.6 , 4.  ],\n",
       "       [2.64, 4.  ],\n",
       "       [2.68, 4.  ],\n",
       "       [2.72, 4.  ],\n",
       "       [2.76, 4.  ],\n",
       "       [2.8 , 4.  ],\n",
       "       [2.84, 4.  ],\n",
       "       [2.88, 4.  ],\n",
       "       [2.92, 4.  ],\n",
       "       [2.96, 4.  ],\n",
       "       [3.  , 4.  ],\n",
       "       [3.04, 4.  ],\n",
       "       [3.08, 4.  ],\n",
       "       [3.12, 4.  ],\n",
       "       [3.16, 4.  ],\n",
       "       [3.2 , 4.  ],\n",
       "       [3.24, 4.  ],\n",
       "       [3.28, 4.  ],\n",
       "       [3.32, 4.  ],\n",
       "       [3.36, 4.  ],\n",
       "       [3.4 , 4.  ],\n",
       "       [3.44, 4.  ],\n",
       "       [3.48, 4.  ],\n",
       "       [3.52, 4.  ],\n",
       "       [3.56, 4.  ],\n",
       "       [3.6 , 4.  ],\n",
       "       [3.64, 4.  ],\n",
       "       [3.68, 4.  ],\n",
       "       [3.72, 4.  ],\n",
       "       [3.76, 4.  ],\n",
       "       [3.8 , 4.  ],\n",
       "       [3.84, 4.  ],\n",
       "       [3.88, 4.  ],\n",
       "       [3.92, 4.  ],\n",
       "       [3.96, 4.  ]])"
      ]
     },
     "execution_count": 162,
     "metadata": {},
     "output_type": "execute_result"
    }
   ],
   "source": [
    "np.linspace([2,4],4, endpoint = False, axis = 0)"
   ]
  },
  {
   "cell_type": "code",
   "execution_count": 163,
   "id": "d246ede7",
   "metadata": {
    "scrolled": true
   },
   "outputs": [
    {
     "data": {
      "text/plain": [
       "array([[2.  , 2.04, 2.08, 2.12, 2.16, 2.2 , 2.24, 2.28, 2.32, 2.36, 2.4 ,\n",
       "        2.44, 2.48, 2.52, 2.56, 2.6 , 2.64, 2.68, 2.72, 2.76, 2.8 , 2.84,\n",
       "        2.88, 2.92, 2.96, 3.  , 3.04, 3.08, 3.12, 3.16, 3.2 , 3.24, 3.28,\n",
       "        3.32, 3.36, 3.4 , 3.44, 3.48, 3.52, 3.56, 3.6 , 3.64, 3.68, 3.72,\n",
       "        3.76, 3.8 , 3.84, 3.88, 3.92, 3.96],\n",
       "       [4.  , 4.  , 4.  , 4.  , 4.  , 4.  , 4.  , 4.  , 4.  , 4.  , 4.  ,\n",
       "        4.  , 4.  , 4.  , 4.  , 4.  , 4.  , 4.  , 4.  , 4.  , 4.  , 4.  ,\n",
       "        4.  , 4.  , 4.  , 4.  , 4.  , 4.  , 4.  , 4.  , 4.  , 4.  , 4.  ,\n",
       "        4.  , 4.  , 4.  , 4.  , 4.  , 4.  , 4.  , 4.  , 4.  , 4.  , 4.  ,\n",
       "        4.  , 4.  , 4.  , 4.  , 4.  , 4.  ]])"
      ]
     },
     "execution_count": 163,
     "metadata": {},
     "output_type": "execute_result"
    }
   ],
   "source": [
    "np.linspace([2,4],4, endpoint = False, axis = 1)"
   ]
  },
  {
   "cell_type": "code",
   "execution_count": 164,
   "id": "e5f7333d",
   "metadata": {},
   "outputs": [],
   "source": [
    "# logspace. Return numbers spaced evenly on a log scale. \n",
    "#In linear space, the sequence starts at base ** start (base to the power of start) and ends with base ** stop (see endpoint below)."
   ]
  },
  {
   "cell_type": "code",
   "execution_count": 165,
   "id": "0454dd40",
   "metadata": {
    "scrolled": false
   },
   "outputs": [
    {
     "data": {
      "text/plain": [
       "array([  100.        ,   464.15888336,  2154.43469003, 10000.        ])"
      ]
     },
     "execution_count": 165,
     "metadata": {},
     "output_type": "execute_result"
    }
   ],
   "source": [
    "np.logspace(2,4,4)"
   ]
  },
  {
   "cell_type": "code",
   "execution_count": 166,
   "id": "e769d658",
   "metadata": {},
   "outputs": [
    {
     "data": {
      "text/plain": [
       "array([[  100.        , 10000.        ],\n",
       "       [  109.8541142 , 10000.        ],\n",
       "       [  120.67926406, 10000.        ],\n",
       "       [  132.57113656, 10000.        ],\n",
       "       [  145.63484775, 10000.        ],\n",
       "       [  159.98587196, 10000.        ],\n",
       "       [  175.75106249, 10000.        ],\n",
       "       [  193.06977289, 10000.        ],\n",
       "       [  212.09508879, 10000.        ],\n",
       "       [  232.99518105, 10000.        ],\n",
       "       [  255.95479227, 10000.        ],\n",
       "       [  281.1768698 , 10000.        ],\n",
       "       [  308.88435965, 10000.        ],\n",
       "       [  339.32217719, 10000.        ],\n",
       "       [  372.75937203, 10000.        ],\n",
       "       [  409.49150624, 10000.        ],\n",
       "       [  449.8432669 , 10000.        ],\n",
       "       [  494.17133613, 10000.        ],\n",
       "       [  542.86754393, 10000.        ],\n",
       "       [  596.36233166, 10000.        ],\n",
       "       [  655.12855686, 10000.        ],\n",
       "       [  719.685673  , 10000.        ],\n",
       "       [  790.60432109, 10000.        ],\n",
       "       [  868.51137375, 10000.        ],\n",
       "       [  954.09547635, 10000.        ],\n",
       "       [ 1048.11313415, 10000.        ],\n",
       "       [ 1151.39539933, 10000.        ],\n",
       "       [ 1264.85521686, 10000.        ],\n",
       "       [ 1389.49549437, 10000.        ],\n",
       "       [ 1526.41796718, 10000.        ],\n",
       "       [ 1676.83293681, 10000.        ],\n",
       "       [ 1842.06996933, 10000.        ],\n",
       "       [ 2023.58964773, 10000.        ],\n",
       "       [ 2222.99648253, 10000.        ],\n",
       "       [ 2442.05309455, 10000.        ],\n",
       "       [ 2682.69579528, 10000.        ],\n",
       "       [ 2947.05170255, 10000.        ],\n",
       "       [ 3237.45754282, 10000.        ],\n",
       "       [ 3556.48030622, 10000.        ],\n",
       "       [ 3906.93993705, 10000.        ],\n",
       "       [ 4291.93426013, 10000.        ],\n",
       "       [ 4714.86636346, 10000.        ],\n",
       "       [ 5179.47467923, 10000.        ],\n",
       "       [ 5689.86602902, 10000.        ],\n",
       "       [ 6250.55192527, 10000.        ],\n",
       "       [ 6866.48845004, 10000.        ],\n",
       "       [ 7543.12006335, 10000.        ],\n",
       "       [ 8286.42772855, 10000.        ],\n",
       "       [ 9102.98177992, 10000.        ],\n",
       "       [10000.        , 10000.        ]])"
      ]
     },
     "execution_count": 166,
     "metadata": {},
     "output_type": "execute_result"
    }
   ],
   "source": [
    "np.logspace([2,4], 4)"
   ]
  },
  {
   "cell_type": "code",
   "execution_count": 167,
   "id": "0207ea04",
   "metadata": {
    "scrolled": true
   },
   "outputs": [
    {
     "data": {
      "text/plain": [
       "array([[  100.        ,   109.8541142 ,   120.67926406,   132.57113656,\n",
       "          145.63484775,   159.98587196,   175.75106249,   193.06977289,\n",
       "          212.09508879,   232.99518105,   255.95479227,   281.1768698 ,\n",
       "          308.88435965,   339.32217719,   372.75937203,   409.49150624,\n",
       "          449.8432669 ,   494.17133613,   542.86754393,   596.36233166,\n",
       "          655.12855686,   719.685673  ,   790.60432109,   868.51137375,\n",
       "          954.09547635,  1048.11313415,  1151.39539933,  1264.85521686,\n",
       "         1389.49549437,  1526.41796718,  1676.83293681,  1842.06996933,\n",
       "         2023.58964773,  2222.99648253,  2442.05309455,  2682.69579528,\n",
       "         2947.05170255,  3237.45754282,  3556.48030622,  3906.93993705,\n",
       "         4291.93426013,  4714.86636346,  5179.47467923,  5689.86602902,\n",
       "         6250.55192527,  6866.48845004,  7543.12006335,  8286.42772855,\n",
       "         9102.98177992, 10000.        ],\n",
       "       [10000.        , 10000.        , 10000.        , 10000.        ,\n",
       "        10000.        , 10000.        , 10000.        , 10000.        ,\n",
       "        10000.        , 10000.        , 10000.        , 10000.        ,\n",
       "        10000.        , 10000.        , 10000.        , 10000.        ,\n",
       "        10000.        , 10000.        , 10000.        , 10000.        ,\n",
       "        10000.        , 10000.        , 10000.        , 10000.        ,\n",
       "        10000.        , 10000.        , 10000.        , 10000.        ,\n",
       "        10000.        , 10000.        , 10000.        , 10000.        ,\n",
       "        10000.        , 10000.        , 10000.        , 10000.        ,\n",
       "        10000.        , 10000.        , 10000.        , 10000.        ,\n",
       "        10000.        , 10000.        , 10000.        , 10000.        ,\n",
       "        10000.        , 10000.        , 10000.        , 10000.        ,\n",
       "        10000.        , 10000.        ]])"
      ]
     },
     "execution_count": 167,
     "metadata": {},
     "output_type": "execute_result"
    }
   ],
   "source": [
    "np.logspace([2,4], 4, axis = 1)"
   ]
  },
  {
   "cell_type": "code",
   "execution_count": 168,
   "id": "3cca57f8",
   "metadata": {},
   "outputs": [],
   "source": [
    "d= np.linspace(4,7,40)"
   ]
  },
  {
   "cell_type": "code",
   "execution_count": 169,
   "id": "60264483",
   "metadata": {},
   "outputs": [
    {
     "data": {
      "text/plain": [
       "array([4.        , 4.07692308, 4.15384615, 4.23076923, 4.30769231,\n",
       "       4.38461538, 4.46153846, 4.53846154, 4.61538462, 4.69230769,\n",
       "       4.76923077, 4.84615385, 4.92307692, 5.        , 5.07692308,\n",
       "       5.15384615, 5.23076923, 5.30769231, 5.38461538, 5.46153846,\n",
       "       5.53846154, 5.61538462, 5.69230769, 5.76923077, 5.84615385,\n",
       "       5.92307692, 6.        , 6.07692308, 6.15384615, 6.23076923,\n",
       "       6.30769231, 6.38461538, 6.46153846, 6.53846154, 6.61538462,\n",
       "       6.69230769, 6.76923077, 6.84615385, 6.92307692, 7.        ])"
      ]
     },
     "execution_count": 169,
     "metadata": {},
     "output_type": "execute_result"
    }
   ],
   "source": [
    "d"
   ]
  },
  {
   "cell_type": "code",
   "execution_count": 170,
   "id": "de9dc53a",
   "metadata": {},
   "outputs": [
    {
     "data": {
      "text/plain": [
       "1"
      ]
     },
     "execution_count": 170,
     "metadata": {},
     "output_type": "execute_result"
    }
   ],
   "source": [
    "d.ndim"
   ]
  },
  {
   "cell_type": "code",
   "execution_count": 171,
   "id": "b5b1d186",
   "metadata": {},
   "outputs": [
    {
     "data": {
      "text/plain": [
       "(40,)"
      ]
     },
     "execution_count": 171,
     "metadata": {},
     "output_type": "execute_result"
    }
   ],
   "source": [
    "d.shape"
   ]
  },
  {
   "cell_type": "code",
   "execution_count": 172,
   "id": "e539b835",
   "metadata": {},
   "outputs": [
    {
     "data": {
      "text/plain": [
       "40"
      ]
     },
     "execution_count": 172,
     "metadata": {},
     "output_type": "execute_result"
    }
   ],
   "source": [
    "d.size"
   ]
  },
  {
   "cell_type": "code",
   "execution_count": 173,
   "id": "a360e5cd",
   "metadata": {},
   "outputs": [],
   "source": [
    "# reshape() fuction are used to change the dimention of the array"
   ]
  },
  {
   "cell_type": "code",
   "execution_count": 174,
   "id": "7a5c4928",
   "metadata": {
    "scrolled": true
   },
   "outputs": [],
   "source": [
    "a =d.reshape(40,1)"
   ]
  },
  {
   "cell_type": "code",
   "execution_count": 175,
   "id": "b408c38f",
   "metadata": {},
   "outputs": [
    {
     "data": {
      "text/plain": [
       "array([[4.        ],\n",
       "       [4.07692308],\n",
       "       [4.15384615],\n",
       "       [4.23076923],\n",
       "       [4.30769231],\n",
       "       [4.38461538],\n",
       "       [4.46153846],\n",
       "       [4.53846154],\n",
       "       [4.61538462],\n",
       "       [4.69230769],\n",
       "       [4.76923077],\n",
       "       [4.84615385],\n",
       "       [4.92307692],\n",
       "       [5.        ],\n",
       "       [5.07692308],\n",
       "       [5.15384615],\n",
       "       [5.23076923],\n",
       "       [5.30769231],\n",
       "       [5.38461538],\n",
       "       [5.46153846],\n",
       "       [5.53846154],\n",
       "       [5.61538462],\n",
       "       [5.69230769],\n",
       "       [5.76923077],\n",
       "       [5.84615385],\n",
       "       [5.92307692],\n",
       "       [6.        ],\n",
       "       [6.07692308],\n",
       "       [6.15384615],\n",
       "       [6.23076923],\n",
       "       [6.30769231],\n",
       "       [6.38461538],\n",
       "       [6.46153846],\n",
       "       [6.53846154],\n",
       "       [6.61538462],\n",
       "       [6.69230769],\n",
       "       [6.76923077],\n",
       "       [6.84615385],\n",
       "       [6.92307692],\n",
       "       [7.        ]])"
      ]
     },
     "execution_count": 175,
     "metadata": {},
     "output_type": "execute_result"
    }
   ],
   "source": [
    "a"
   ]
  },
  {
   "cell_type": "code",
   "execution_count": 176,
   "id": "736635ea",
   "metadata": {},
   "outputs": [],
   "source": [
    "# our 1d dat is converted into the 2d"
   ]
  },
  {
   "cell_type": "code",
   "execution_count": 177,
   "id": "3447d664",
   "metadata": {
    "scrolled": true
   },
   "outputs": [
    {
     "data": {
      "text/plain": [
       "2"
      ]
     },
     "execution_count": 177,
     "metadata": {},
     "output_type": "execute_result"
    }
   ],
   "source": [
    "a.ndim"
   ]
  },
  {
   "cell_type": "code",
   "execution_count": 178,
   "id": "89679478",
   "metadata": {},
   "outputs": [],
   "source": [
    "# convert the 2d data into 3d array\n",
    "# make two array of the 2 row , 10 column"
   ]
  },
  {
   "cell_type": "code",
   "execution_count": 179,
   "id": "6b847c6d",
   "metadata": {
    "scrolled": true
   },
   "outputs": [
    {
     "data": {
      "text/plain": [
       "array([[[4.        , 4.07692308, 4.15384615, 4.23076923, 4.30769231,\n",
       "         4.38461538, 4.46153846, 4.53846154, 4.61538462, 4.69230769],\n",
       "        [4.76923077, 4.84615385, 4.92307692, 5.        , 5.07692308,\n",
       "         5.15384615, 5.23076923, 5.30769231, 5.38461538, 5.46153846]],\n",
       "\n",
       "       [[5.53846154, 5.61538462, 5.69230769, 5.76923077, 5.84615385,\n",
       "         5.92307692, 6.        , 6.07692308, 6.15384615, 6.23076923],\n",
       "        [6.30769231, 6.38461538, 6.46153846, 6.53846154, 6.61538462,\n",
       "         6.69230769, 6.76923077, 6.84615385, 6.92307692, 7.        ]]])"
      ]
     },
     "execution_count": 179,
     "metadata": {},
     "output_type": "execute_result"
    }
   ],
   "source": [
    "a.reshape(2,2,10)"
   ]
  },
  {
   "cell_type": "code",
   "execution_count": 180,
   "id": "4317c984",
   "metadata": {},
   "outputs": [],
   "source": [
    "# returns an array of random samples from the uniform distribution over [0,1] ."
   ]
  },
  {
   "cell_type": "code",
   "execution_count": 181,
   "id": "204e21f9",
   "metadata": {
    "scrolled": true
   },
   "outputs": [
    {
     "data": {
      "text/plain": [
       "array([0.53244629, 0.02097774, 0.6134036 ])"
      ]
     },
     "execution_count": 181,
     "metadata": {},
     "output_type": "execute_result"
    }
   ],
   "source": [
    " np.random.rand(3)"
   ]
  },
  {
   "cell_type": "code",
   "execution_count": 182,
   "id": "c63ddc02",
   "metadata": {},
   "outputs": [],
   "source": [
    "# random. randn() function creates an array of specified shape and fills it with random values as per standard normal distribution.\n",
    "# standard normal distribution mean = 0 and standard deviation = 1"
   ]
  },
  {
   "cell_type": "code",
   "execution_count": 183,
   "id": "818a9f43",
   "metadata": {
    "scrolled": false
   },
   "outputs": [
    {
     "data": {
      "text/plain": [
       "array([-1.07966698,  0.38163522,  0.53365485])"
      ]
     },
     "execution_count": 183,
     "metadata": {},
     "output_type": "execute_result"
    }
   ],
   "source": [
    "np.random.randn(3)"
   ]
  },
  {
   "cell_type": "code",
   "execution_count": 184,
   "id": "3d5dfbb2",
   "metadata": {},
   "outputs": [
    {
     "data": {
      "text/plain": [
       "array([[-0.85204837, -0.94267535, -0.64305468],\n",
       "       [ 0.97097668, -0.63110392, -0.39308919]])"
      ]
     },
     "execution_count": 184,
     "metadata": {},
     "output_type": "execute_result"
    }
   ],
   "source": [
    "np.random.randn(2,3)"
   ]
  },
  {
   "cell_type": "code",
   "execution_count": 185,
   "id": "e6c0eb92",
   "metadata": {
    "scrolled": true
   },
   "outputs": [
    {
     "data": {
      "text/plain": [
       "array([[[ 0.61679192, -2.16278788,  0.1687031 ],\n",
       "        [-0.58126938, -0.94245878, -0.16316741]],\n",
       "\n",
       "       [[-0.09213556, -0.29620058,  0.68190241],\n",
       "        [-0.30026299, -0.24343144, -1.30480588]]])"
      ]
     },
     "execution_count": 185,
     "metadata": {},
     "output_type": "execute_result"
    }
   ],
   "source": [
    "np.random.randn(2,2,3)"
   ]
  },
  {
   "cell_type": "code",
   "execution_count": 186,
   "id": "c18332d5",
   "metadata": {},
   "outputs": [],
   "source": [
    "# The randint() method returns an integer number selected element from the specified range."
   ]
  },
  {
   "cell_type": "code",
   "execution_count": 187,
   "id": "4ef2ea80",
   "metadata": {
    "scrolled": false
   },
   "outputs": [
    {
     "data": {
      "text/plain": [
       "0"
      ]
     },
     "execution_count": 187,
     "metadata": {},
     "output_type": "execute_result"
    }
   ],
   "source": [
    "np.random.randint(5)"
   ]
  },
  {
   "cell_type": "code",
   "execution_count": 188,
   "id": "60c74ab0",
   "metadata": {},
   "outputs": [
    {
     "data": {
      "text/plain": [
       "4"
      ]
     },
     "execution_count": 188,
     "metadata": {},
     "output_type": "execute_result"
    }
   ],
   "source": [
    "np.random.randint(5)"
   ]
  },
  {
   "cell_type": "code",
   "execution_count": 189,
   "id": "04652825",
   "metadata": {
    "scrolled": true
   },
   "outputs": [
    {
     "data": {
      "text/plain": [
       "4"
      ]
     },
     "execution_count": 189,
     "metadata": {},
     "output_type": "execute_result"
    }
   ],
   "source": [
    "np.random.randint(2,10)"
   ]
  },
  {
   "cell_type": "code",
   "execution_count": 190,
   "id": "719bca06",
   "metadata": {
    "scrolled": true
   },
   "outputs": [
    {
     "data": {
      "text/plain": [
       "9"
      ]
     },
     "execution_count": 190,
     "metadata": {},
     "output_type": "execute_result"
    }
   ],
   "source": [
    "np.random.randint(2,10)"
   ]
  },
  {
   "cell_type": "code",
   "execution_count": 191,
   "id": "ca8e23a5",
   "metadata": {},
   "outputs": [],
   "source": [
    "# generate the 3X3 matrix, all the element of matrix are between the 5 and 10"
   ]
  },
  {
   "cell_type": "code",
   "execution_count": 192,
   "id": "fe571225",
   "metadata": {
    "scrolled": true
   },
   "outputs": [
    {
     "data": {
      "text/plain": [
       "array([[5, 7, 5],\n",
       "       [8, 6, 7],\n",
       "       [6, 9, 5]])"
      ]
     },
     "execution_count": 192,
     "metadata": {},
     "output_type": "execute_result"
    }
   ],
   "source": [
    "np.random.randint(5,10, (3,3))"
   ]
  },
  {
   "cell_type": "code",
   "execution_count": 193,
   "id": "0ff95f24",
   "metadata": {},
   "outputs": [],
   "source": [
    "arr = np.random.randint(3,9,(3,3))"
   ]
  },
  {
   "cell_type": "code",
   "execution_count": 194,
   "id": "ed647c14",
   "metadata": {},
   "outputs": [
    {
     "data": {
      "text/plain": [
       "array([[8, 6, 7],\n",
       "       [3, 8, 7],\n",
       "       [6, 7, 6]])"
      ]
     },
     "execution_count": 194,
     "metadata": {},
     "output_type": "execute_result"
    }
   ],
   "source": [
    "arr"
   ]
  },
  {
   "cell_type": "code",
   "execution_count": 195,
   "id": "9b84c76f",
   "metadata": {},
   "outputs": [],
   "source": [
    "# reshape function are used for the generate the array row and column according to the user\n",
    "# arrange the data in one row and nine column"
   ]
  },
  {
   "cell_type": "code",
   "execution_count": 196,
   "id": "2dc0d4d4",
   "metadata": {
    "scrolled": true
   },
   "outputs": [
    {
     "data": {
      "text/plain": [
       "array([[8, 6, 7, 3, 8, 7, 6, 7, 6]])"
      ]
     },
     "execution_count": 196,
     "metadata": {},
     "output_type": "execute_result"
    }
   ],
   "source": [
    "arr.reshape(1,9)"
   ]
  },
  {
   "cell_type": "code",
   "execution_count": 197,
   "id": "c217b58f",
   "metadata": {},
   "outputs": [],
   "source": [
    "# arrange the data in the 9 row and 1 column"
   ]
  },
  {
   "cell_type": "code",
   "execution_count": 198,
   "id": "9538ba3f",
   "metadata": {
    "scrolled": true
   },
   "outputs": [
    {
     "data": {
      "text/plain": [
       "array([[8],\n",
       "       [6],\n",
       "       [7],\n",
       "       [3],\n",
       "       [8],\n",
       "       [7],\n",
       "       [6],\n",
       "       [7],\n",
       "       [6]])"
      ]
     },
     "execution_count": 198,
     "metadata": {},
     "output_type": "execute_result"
    }
   ],
   "source": [
    "arr.reshape(9,1)"
   ]
  },
  {
   "cell_type": "code",
   "execution_count": 199,
   "id": "0a4344f3",
   "metadata": {
    "scrolled": true
   },
   "outputs": [
    {
     "data": {
      "text/plain": [
       "array([[[8, 6, 7, 3, 8, 7, 6, 7, 6]]])"
      ]
     },
     "execution_count": 199,
     "metadata": {},
     "output_type": "execute_result"
    }
   ],
   "source": [
    "arr.reshape(1,1,9)"
   ]
  },
  {
   "cell_type": "code",
   "execution_count": 200,
   "id": "b0f55392",
   "metadata": {
    "scrolled": true
   },
   "outputs": [
    {
     "data": {
      "text/plain": [
       "array([[[8],\n",
       "        [6],\n",
       "        [7]],\n",
       "\n",
       "       [[3],\n",
       "        [8],\n",
       "        [7]],\n",
       "\n",
       "       [[6],\n",
       "        [7],\n",
       "        [6]]])"
      ]
     },
     "execution_count": 200,
     "metadata": {},
     "output_type": "execute_result"
    }
   ],
   "source": [
    "arr.reshape(3,3,1)"
   ]
  },
  {
   "cell_type": "code",
   "execution_count": 201,
   "id": "2d2d48b7",
   "metadata": {},
   "outputs": [],
   "source": [
    "# if we give the negative value to the axis then then numpy arrange the data according to the other axis value"
   ]
  },
  {
   "cell_type": "code",
   "execution_count": 202,
   "id": "9ff3d9a6",
   "metadata": {},
   "outputs": [],
   "source": [
    "# in the below case we put 3 and -1 then the 3 is the no.of row \n",
    "# we have the 9 element in the arr so no.of column set based on the given row number"
   ]
  },
  {
   "cell_type": "code",
   "execution_count": 203,
   "id": "46ad3565",
   "metadata": {
    "scrolled": false
   },
   "outputs": [
    {
     "data": {
      "text/plain": [
       "array([[8, 6, 7],\n",
       "       [3, 8, 7],\n",
       "       [6, 7, 6]])"
      ]
     },
     "execution_count": 203,
     "metadata": {},
     "output_type": "execute_result"
    }
   ],
   "source": [
    "arr.reshape(3, -1)"
   ]
  },
  {
   "cell_type": "code",
   "execution_count": 204,
   "id": "aa7d360e",
   "metadata": {},
   "outputs": [],
   "source": [
    "# no. fo row is 1 so the no.of column will be 9"
   ]
  },
  {
   "cell_type": "code",
   "execution_count": 205,
   "id": "6d009a4c",
   "metadata": {
    "scrolled": true
   },
   "outputs": [
    {
     "data": {
      "text/plain": [
       "array([[8, 6, 7, 3, 8, 7, 6, 7, 6]])"
      ]
     },
     "execution_count": 205,
     "metadata": {},
     "output_type": "execute_result"
    }
   ],
   "source": [
    "arr.reshape(1,-1)"
   ]
  },
  {
   "cell_type": "code",
   "execution_count": 206,
   "id": "00941cc3",
   "metadata": {},
   "outputs": [],
   "source": [
    "# max() function give the maximum number in the array"
   ]
  },
  {
   "cell_type": "code",
   "execution_count": 207,
   "id": "381710ea",
   "metadata": {},
   "outputs": [
    {
     "data": {
      "text/plain": [
       "8"
      ]
     },
     "execution_count": 207,
     "metadata": {},
     "output_type": "execute_result"
    }
   ],
   "source": [
    "arr.max()"
   ]
  },
  {
   "cell_type": "code",
   "execution_count": 208,
   "id": "e31209c8",
   "metadata": {},
   "outputs": [],
   "source": [
    "# min() function give the minimum number in  the array"
   ]
  },
  {
   "cell_type": "code",
   "execution_count": 209,
   "id": "583ffedd",
   "metadata": {
    "scrolled": false
   },
   "outputs": [
    {
     "data": {
      "text/plain": [
       "3"
      ]
     },
     "execution_count": 209,
     "metadata": {},
     "output_type": "execute_result"
    }
   ],
   "source": [
    "arr.min()"
   ]
  },
  {
   "cell_type": "code",
   "execution_count": 210,
   "id": "4c58bebf",
   "metadata": {},
   "outputs": [],
   "source": [
    "# slicing operation on the array"
   ]
  },
  {
   "cell_type": "code",
   "execution_count": 211,
   "id": "c2ed8f4d",
   "metadata": {},
   "outputs": [],
   "source": [
    "arr1 = np.random.randint(4,10,(5,5))"
   ]
  },
  {
   "cell_type": "code",
   "execution_count": 212,
   "id": "53dcddd2",
   "metadata": {
    "scrolled": false
   },
   "outputs": [
    {
     "data": {
      "text/plain": [
       "array([[7, 9, 7, 5, 4],\n",
       "       [4, 6, 6, 6, 8],\n",
       "       [7, 9, 6, 4, 8],\n",
       "       [9, 4, 9, 9, 6],\n",
       "       [9, 7, 6, 4, 9]])"
      ]
     },
     "execution_count": 212,
     "metadata": {},
     "output_type": "execute_result"
    }
   ],
   "source": [
    "arr1"
   ]
  },
  {
   "cell_type": "code",
   "execution_count": 213,
   "id": "b2635278",
   "metadata": {},
   "outputs": [
    {
     "data": {
      "text/plain": [
       "(5, 5)"
      ]
     },
     "execution_count": 213,
     "metadata": {},
     "output_type": "execute_result"
    }
   ],
   "source": [
    "arr1.shape"
   ]
  },
  {
   "cell_type": "code",
   "execution_count": 214,
   "id": "1d461f14",
   "metadata": {},
   "outputs": [],
   "source": [
    "# extract the data from the right bottom corner of the array with shape 2X2"
   ]
  },
  {
   "cell_type": "code",
   "execution_count": 215,
   "id": "ebe86880",
   "metadata": {
    "scrolled": false
   },
   "outputs": [
    {
     "data": {
      "text/plain": [
       "array([[9, 6],\n",
       "       [4, 9]])"
      ]
     },
     "execution_count": 215,
     "metadata": {},
     "output_type": "execute_result"
    }
   ],
   "source": [
    "arr1[3:,3:]"
   ]
  },
  {
   "cell_type": "code",
   "execution_count": 216,
   "id": "1c3df840",
   "metadata": {
    "scrolled": true
   },
   "outputs": [
    {
     "data": {
      "text/plain": [
       "(2, 2)"
      ]
     },
     "execution_count": 216,
     "metadata": {},
     "output_type": "execute_result"
    }
   ],
   "source": [
    "arr1[3:,3:,].shape"
   ]
  },
  {
   "cell_type": "code",
   "execution_count": 217,
   "id": "064654b9",
   "metadata": {},
   "outputs": [],
   "source": [
    "# extract the data from allrow of the 2 column and 4 column"
   ]
  },
  {
   "cell_type": "code",
   "execution_count": 218,
   "id": "6cd69798",
   "metadata": {
    "scrolled": true
   },
   "outputs": [
    {
     "data": {
      "text/plain": [
       "array([[9, 5],\n",
       "       [6, 6],\n",
       "       [9, 4],\n",
       "       [4, 9],\n",
       "       [7, 4]])"
      ]
     },
     "execution_count": 218,
     "metadata": {},
     "output_type": "execute_result"
    }
   ],
   "source": [
    "arr1[0:, [1,3]]"
   ]
  },
  {
   "cell_type": "code",
   "execution_count": 219,
   "id": "9b2e8049",
   "metadata": {},
   "outputs": [
    {
     "data": {
      "text/plain": [
       "array([[7, 9, 7, 5, 4],\n",
       "       [4, 6, 6, 6, 8],\n",
       "       [7, 9, 6, 4, 8],\n",
       "       [9, 4, 9, 9, 6],\n",
       "       [9, 7, 6, 4, 9]])"
      ]
     },
     "execution_count": 219,
     "metadata": {},
     "output_type": "execute_result"
    }
   ],
   "source": [
    "arr1"
   ]
  },
  {
   "cell_type": "code",
   "execution_count": 220,
   "id": "8081a40d",
   "metadata": {},
   "outputs": [],
   "source": [
    "# arr1> 7 this command will print the true false value in the matrix\n",
    "# when element of the array greater than 7then it will print true otherwise print false"
   ]
  },
  {
   "cell_type": "code",
   "execution_count": 221,
   "id": "0beceae1",
   "metadata": {
    "scrolled": true
   },
   "outputs": [
    {
     "data": {
      "text/plain": [
       "array([[False,  True, False, False, False],\n",
       "       [False, False, False, False,  True],\n",
       "       [False,  True, False, False,  True],\n",
       "       [ True, False,  True,  True, False],\n",
       "       [ True, False, False, False,  True]])"
      ]
     },
     "execution_count": 221,
     "metadata": {},
     "output_type": "execute_result"
    }
   ],
   "source": [
    "arr1>7\n"
   ]
  },
  {
   "cell_type": "code",
   "execution_count": 222,
   "id": "4b1bd761",
   "metadata": {},
   "outputs": [],
   "source": [
    "# filter out the data which are greater than the 7"
   ]
  },
  {
   "cell_type": "code",
   "execution_count": 223,
   "id": "8bc49629",
   "metadata": {},
   "outputs": [
    {
     "data": {
      "text/plain": [
       "array([9, 8, 9, 8, 9, 9, 9, 9, 9])"
      ]
     },
     "execution_count": 223,
     "metadata": {},
     "output_type": "execute_result"
    }
   ],
   "source": [
    "arr1[arr1>7]"
   ]
  },
  {
   "cell_type": "code",
   "execution_count": 224,
   "id": "ad48d828",
   "metadata": {},
   "outputs": [
    {
     "data": {
      "text/plain": [
       "array([[7, 9, 7, 5, 4],\n",
       "       [4, 6, 6, 6, 8],\n",
       "       [7, 9, 6, 4, 8],\n",
       "       [9, 4, 9, 9, 6],\n",
       "       [9, 7, 6, 4, 9]])"
      ]
     },
     "execution_count": 224,
     "metadata": {},
     "output_type": "execute_result"
    }
   ],
   "source": [
    "arr1"
   ]
  },
  {
   "cell_type": "code",
   "execution_count": 225,
   "id": "78946f08",
   "metadata": {},
   "outputs": [
    {
     "data": {
      "text/plain": [
       "array([[49, 81, 49, 25, 16],\n",
       "       [16, 36, 36, 36, 64],\n",
       "       [49, 81, 36, 16, 64],\n",
       "       [81, 16, 81, 81, 36],\n",
       "       [81, 49, 36, 16, 81]])"
      ]
     },
     "execution_count": 225,
     "metadata": {},
     "output_type": "execute_result"
    }
   ],
   "source": [
    "arr1*arr1"
   ]
  },
  {
   "cell_type": "code",
   "execution_count": 226,
   "id": "89ba2142",
   "metadata": {},
   "outputs": [],
   "source": [
    "arr2 = np.random.randint(10,20,(3,3))"
   ]
  },
  {
   "cell_type": "code",
   "execution_count": 227,
   "id": "52b80045",
   "metadata": {},
   "outputs": [
    {
     "data": {
      "text/plain": [
       "array([[17, 10, 12],\n",
       "       [16, 17, 19],\n",
       "       [14, 14, 16]])"
      ]
     },
     "execution_count": 227,
     "metadata": {},
     "output_type": "execute_result"
    }
   ],
   "source": [
    "arr2"
   ]
  },
  {
   "cell_type": "code",
   "execution_count": 228,
   "id": "03c776da",
   "metadata": {},
   "outputs": [],
   "source": [
    "arr3 = np.random.randint(1,10,(3,3))"
   ]
  },
  {
   "cell_type": "code",
   "execution_count": 229,
   "id": "be33a5ff",
   "metadata": {
    "scrolled": true
   },
   "outputs": [
    {
     "data": {
      "text/plain": [
       "array([[6, 9, 3],\n",
       "       [1, 6, 9],\n",
       "       [7, 6, 4]])"
      ]
     },
     "execution_count": 229,
     "metadata": {},
     "output_type": "execute_result"
    }
   ],
   "source": [
    "arr3"
   ]
  },
  {
   "cell_type": "code",
   "execution_count": 230,
   "id": "b266e302",
   "metadata": {},
   "outputs": [],
   "source": [
    "# multiplication of the two array\n",
    "# for the multiplication of the array both array should have same dimention and shape "
   ]
  },
  {
   "cell_type": "code",
   "execution_count": 231,
   "id": "04bf9d89",
   "metadata": {},
   "outputs": [],
   "source": [
    "# multiplication of the matrix according to index"
   ]
  },
  {
   "cell_type": "code",
   "execution_count": 232,
   "id": "d2138174",
   "metadata": {
    "scrolled": true
   },
   "outputs": [
    {
     "data": {
      "text/plain": [
       "array([[102,  90,  36],\n",
       "       [ 16, 102, 171],\n",
       "       [ 98,  84,  64]])"
      ]
     },
     "execution_count": 232,
     "metadata": {},
     "output_type": "execute_result"
    }
   ],
   "source": [
    "arr2 *arr3"
   ]
  },
  {
   "cell_type": "code",
   "execution_count": 233,
   "id": "135d763b",
   "metadata": {},
   "outputs": [],
   "source": [
    "# mathematical matrix multiplication\n",
    "# In which no.of row should be equal to the no.of column\n"
   ]
  },
  {
   "cell_type": "code",
   "execution_count": 234,
   "id": "a8ca7dfd",
   "metadata": {
    "scrolled": true
   },
   "outputs": [
    {
     "data": {
      "text/plain": [
       "array([[196, 285, 189],\n",
       "       [246, 360, 277],\n",
       "       [210, 306, 232]])"
      ]
     },
     "execution_count": 234,
     "metadata": {},
     "output_type": "execute_result"
    }
   ],
   "source": [
    "arr2@arr3"
   ]
  },
  {
   "cell_type": "code",
   "execution_count": 235,
   "id": "50f4b68b",
   "metadata": {},
   "outputs": [],
   "source": [
    "# array division"
   ]
  },
  {
   "cell_type": "code",
   "execution_count": 236,
   "id": "60fa58d3",
   "metadata": {
    "scrolled": true
   },
   "outputs": [
    {
     "name": "stderr",
     "output_type": "stream",
     "text": [
      "C:\\Users\\Priyanka\\AppData\\Local\\Temp\\ipykernel_7916\\4133987296.py:1: RuntimeWarning: divide by zero encountered in divide\n",
      "  arr2/0\n"
     ]
    },
    {
     "data": {
      "text/plain": [
       "array([[inf, inf, inf],\n",
       "       [inf, inf, inf],\n",
       "       [inf, inf, inf]])"
      ]
     },
     "execution_count": 236,
     "metadata": {},
     "output_type": "execute_result"
    }
   ],
   "source": [
    "arr2/0"
   ]
  },
  {
   "cell_type": "code",
   "execution_count": 237,
   "id": "2bafb1f6",
   "metadata": {},
   "outputs": [],
   "source": [
    "# squaring of the array element"
   ]
  },
  {
   "cell_type": "code",
   "execution_count": 238,
   "id": "b9380d40",
   "metadata": {
    "scrolled": false
   },
   "outputs": [
    {
     "data": {
      "text/plain": [
       "array([[289, 100, 144],\n",
       "       [256, 289, 361],\n",
       "       [196, 196, 256]])"
      ]
     },
     "execution_count": 238,
     "metadata": {},
     "output_type": "execute_result"
    }
   ],
   "source": [
    "arr2**2"
   ]
  },
  {
   "cell_type": "code",
   "execution_count": 239,
   "id": "4186bf4d",
   "metadata": {},
   "outputs": [],
   "source": [
    "# broadcasting"
   ]
  },
  {
   "cell_type": "code",
   "execution_count": 240,
   "id": "46814096",
   "metadata": {},
   "outputs": [],
   "source": [
    "arr4 = np.zeros((3,4))"
   ]
  },
  {
   "cell_type": "code",
   "execution_count": 241,
   "id": "a0c8eca6",
   "metadata": {
    "scrolled": true
   },
   "outputs": [
    {
     "data": {
      "text/plain": [
       "array([[0., 0., 0., 0.],\n",
       "       [0., 0., 0., 0.],\n",
       "       [0., 0., 0., 0.]])"
      ]
     },
     "execution_count": 241,
     "metadata": {},
     "output_type": "execute_result"
    }
   ],
   "source": [
    "arr4"
   ]
  },
  {
   "cell_type": "code",
   "execution_count": 242,
   "id": "b3b735d6",
   "metadata": {},
   "outputs": [],
   "source": [
    "a = np.array([1,2,3,4])"
   ]
  },
  {
   "cell_type": "code",
   "execution_count": 243,
   "id": "6dfb8b4f",
   "metadata": {},
   "outputs": [
    {
     "data": {
      "text/plain": [
       "array([1, 2, 3, 4])"
      ]
     },
     "execution_count": 243,
     "metadata": {},
     "output_type": "execute_result"
    }
   ],
   "source": [
    "a"
   ]
  },
  {
   "cell_type": "code",
   "execution_count": 244,
   "id": "83b3ef8f",
   "metadata": {},
   "outputs": [],
   "source": [
    "# row wise broadcasting"
   ]
  },
  {
   "cell_type": "code",
   "execution_count": 245,
   "id": "1f4310c9",
   "metadata": {},
   "outputs": [
    {
     "data": {
      "text/plain": [
       "array([[1., 2., 3., 4.],\n",
       "       [1., 2., 3., 4.],\n",
       "       [1., 2., 3., 4.]])"
      ]
     },
     "execution_count": 245,
     "metadata": {},
     "output_type": "execute_result"
    }
   ],
   "source": [
    "arr4 +a"
   ]
  },
  {
   "cell_type": "code",
   "execution_count": 246,
   "id": "1925d604",
   "metadata": {},
   "outputs": [
    {
     "data": {
      "text/plain": [
       "array([[2., 2., 2., 2.],\n",
       "       [2., 2., 2., 2.],\n",
       "       [2., 2., 2., 2.]])"
      ]
     },
     "execution_count": 246,
     "metadata": {},
     "output_type": "execute_result"
    }
   ],
   "source": [
    "arr4 +2"
   ]
  },
  {
   "cell_type": "code",
   "execution_count": 247,
   "id": "1196ca20",
   "metadata": {},
   "outputs": [],
   "source": [
    "# columnwise broadcasting"
   ]
  },
  {
   "cell_type": "code",
   "execution_count": 248,
   "id": "4287efff",
   "metadata": {},
   "outputs": [],
   "source": [
    "b = np.array([4,5,6])"
   ]
  },
  {
   "cell_type": "code",
   "execution_count": 249,
   "id": "656cd9c1",
   "metadata": {},
   "outputs": [
    {
     "data": {
      "text/plain": [
       "array([4, 5, 6])"
      ]
     },
     "execution_count": 249,
     "metadata": {},
     "output_type": "execute_result"
    }
   ],
   "source": [
    "b"
   ]
  },
  {
   "cell_type": "code",
   "execution_count": 250,
   "id": "e521c5c8",
   "metadata": {},
   "outputs": [
    {
     "data": {
      "text/plain": [
       "array([ 9, 10, 11])"
      ]
     },
     "execution_count": 250,
     "metadata": {},
     "output_type": "execute_result"
    }
   ],
   "source": [
    "b +5"
   ]
  },
  {
   "cell_type": "code",
   "execution_count": 251,
   "id": "85c1635c",
   "metadata": {},
   "outputs": [
    {
     "data": {
      "text/plain": [
       "array([[ 9],\n",
       "       [10],\n",
       "       [11]])"
      ]
     },
     "execution_count": 251,
     "metadata": {},
     "output_type": "execute_result"
    }
   ],
   "source": [
    "b.reshape(3,1) + 5"
   ]
  },
  {
   "cell_type": "code",
   "execution_count": 252,
   "id": "9b8de269",
   "metadata": {},
   "outputs": [],
   "source": [
    "# transpose the array"
   ]
  },
  {
   "cell_type": "code",
   "execution_count": 253,
   "id": "c9b84302",
   "metadata": {},
   "outputs": [],
   "source": [
    "c= np.array([[1,2,3]])"
   ]
  },
  {
   "cell_type": "code",
   "execution_count": 254,
   "id": "468475e9",
   "metadata": {},
   "outputs": [
    {
     "data": {
      "text/plain": [
       "array([[1, 2, 3]])"
      ]
     },
     "execution_count": 254,
     "metadata": {},
     "output_type": "execute_result"
    }
   ],
   "source": [
    "c"
   ]
  },
  {
   "cell_type": "code",
   "execution_count": 255,
   "id": "74f53411",
   "metadata": {
    "scrolled": true
   },
   "outputs": [
    {
     "data": {
      "text/plain": [
       "array([[1],\n",
       "       [2],\n",
       "       [3]])"
      ]
     },
     "execution_count": 255,
     "metadata": {},
     "output_type": "execute_result"
    }
   ],
   "source": [
    "c.T"
   ]
  },
  {
   "cell_type": "code",
   "execution_count": 256,
   "id": "6ef6bd68",
   "metadata": {},
   "outputs": [
    {
     "data": {
      "text/plain": [
       "array([[5],\n",
       "       [6],\n",
       "       [7]])"
      ]
     },
     "execution_count": 256,
     "metadata": {},
     "output_type": "execute_result"
    }
   ],
   "source": [
    "c.T + 4"
   ]
  },
  {
   "cell_type": "code",
   "execution_count": 257,
   "id": "40e35cad",
   "metadata": {},
   "outputs": [
    {
     "data": {
      "text/plain": [
       "array([[5, 6, 7],\n",
       "       [6, 7, 8],\n",
       "       [7, 8, 9]])"
      ]
     },
     "execution_count": 257,
     "metadata": {},
     "output_type": "execute_result"
    }
   ],
   "source": [
    "c.T +b"
   ]
  },
  {
   "cell_type": "code",
   "execution_count": 258,
   "id": "d5176664",
   "metadata": {
    "scrolled": true
   },
   "outputs": [],
   "source": [
    "p = np.random.rand(3,3)"
   ]
  },
  {
   "cell_type": "code",
   "execution_count": 259,
   "id": "0c783914",
   "metadata": {},
   "outputs": [
    {
     "data": {
      "text/plain": [
       "array([[0.68297822, 0.79553288, 0.83982363],\n",
       "       [0.21984741, 0.13372697, 0.55166946],\n",
       "       [0.10676963, 0.73363518, 0.98537849]])"
      ]
     },
     "execution_count": 259,
     "metadata": {},
     "output_type": "execute_result"
    }
   ],
   "source": [
    "p"
   ]
  },
  {
   "cell_type": "code",
   "execution_count": 260,
   "id": "4232f105",
   "metadata": {},
   "outputs": [
    {
     "data": {
      "text/plain": [
       "array([[0.82642496, 0.8919265 , 0.91641891],\n",
       "       [0.46887889, 0.36568698, 0.74274454],\n",
       "       [0.32675622, 0.85652506, 0.99266232]])"
      ]
     },
     "execution_count": 260,
     "metadata": {},
     "output_type": "execute_result"
    }
   ],
   "source": [
    "np.sqrt(p)"
   ]
  },
  {
   "cell_type": "code",
   "execution_count": 261,
   "id": "390f7daf",
   "metadata": {
    "scrolled": true
   },
   "outputs": [
    {
     "data": {
      "text/plain": [
       "array([[1.97976514, 2.21562134, 2.31595846],\n",
       "       [1.24588661, 1.14308068, 1.73614903],\n",
       "       [1.1126779 , 2.08263763, 2.67882559]])"
      ]
     },
     "execution_count": 261,
     "metadata": {},
     "output_type": "execute_result"
    }
   ],
   "source": [
    "np.exp(p)"
   ]
  },
  {
   "cell_type": "code",
   "execution_count": 262,
   "id": "c8631f18",
   "metadata": {},
   "outputs": [
    {
     "data": {
      "text/plain": [
       "array([[-0.16559315, -0.09934187, -0.07581191],\n",
       "       [-0.65787864, -0.87378101, -0.25832106],\n",
       "       [-0.97155227, -0.13451985, -0.00639692]])"
      ]
     },
     "execution_count": 262,
     "metadata": {},
     "output_type": "execute_result"
    }
   ],
   "source": [
    "np.log10(p)"
   ]
  },
  {
   "cell_type": "code",
   "execution_count": 263,
   "id": "85be4e53",
   "metadata": {},
   "outputs": [],
   "source": [
    "q = np.random.randint(1,5,(5,5))"
   ]
  },
  {
   "cell_type": "code",
   "execution_count": 264,
   "id": "62d4a987",
   "metadata": {},
   "outputs": [
    {
     "data": {
      "text/plain": [
       "array([[2, 4, 4, 4, 3],\n",
       "       [3, 3, 1, 1, 1],\n",
       "       [4, 1, 1, 4, 4],\n",
       "       [3, 4, 4, 3, 3],\n",
       "       [2, 4, 2, 2, 2]])"
      ]
     },
     "execution_count": 264,
     "metadata": {},
     "output_type": "execute_result"
    }
   ],
   "source": [
    "q"
   ]
  },
  {
   "cell_type": "code",
   "execution_count": 265,
   "id": "92d88cd4",
   "metadata": {},
   "outputs": [
    {
     "data": {
      "text/plain": [
       "array([[0.30103   , 0.60205999, 0.60205999, 0.60205999, 0.47712125],\n",
       "       [0.47712125, 0.47712125, 0.        , 0.        , 0.        ],\n",
       "       [0.60205999, 0.        , 0.        , 0.60205999, 0.60205999],\n",
       "       [0.47712125, 0.60205999, 0.60205999, 0.47712125, 0.47712125],\n",
       "       [0.30103   , 0.60205999, 0.30103   , 0.30103   , 0.30103   ]])"
      ]
     },
     "execution_count": 265,
     "metadata": {},
     "output_type": "execute_result"
    }
   ],
   "source": [
    "np.log10(q)"
   ]
  },
  {
   "cell_type": "code",
   "execution_count": 266,
   "id": "a1bfcc1c",
   "metadata": {},
   "outputs": [],
   "source": [
    "# when we use random.rand function for generating the array then data will be change at every execution\n",
    "# but when we use the random.rand alonfg with the seed function then data does not change "
   ]
  },
  {
   "cell_type": "code",
   "execution_count": 267,
   "id": "80e70c88",
   "metadata": {},
   "outputs": [
    {
     "data": {
      "text/plain": [
       "array([[0.42231553, 0.08760714, 0.50041462],\n",
       "       [0.55274661, 0.94428315, 0.02293584]])"
      ]
     },
     "execution_count": 267,
     "metadata": {},
     "output_type": "execute_result"
    }
   ],
   "source": [
    "np.random.rand(2,3)"
   ]
  },
  {
   "cell_type": "code",
   "execution_count": 268,
   "id": "539b444b",
   "metadata": {},
   "outputs": [],
   "source": [
    "# seed(3) generate the same data everytime"
   ]
  },
  {
   "cell_type": "code",
   "execution_count": 269,
   "id": "b643cca4",
   "metadata": {},
   "outputs": [
    {
     "data": {
      "text/plain": [
       "array([[0.5507979 , 0.70814782, 0.29090474],\n",
       "       [0.51082761, 0.89294695, 0.89629309],\n",
       "       [0.12558531, 0.20724288, 0.0514672 ]])"
      ]
     },
     "execution_count": 269,
     "metadata": {},
     "output_type": "execute_result"
    }
   ],
   "source": [
    "np.random.seed(3)\n",
    "np.random.rand(3,3)"
   ]
  },
  {
   "cell_type": "code",
   "execution_count": 270,
   "id": "3d1e33bb",
   "metadata": {
    "scrolled": false
   },
   "outputs": [
    {
     "data": {
      "text/plain": [
       "array([[0.5507979 , 0.70814782, 0.29090474],\n",
       "       [0.51082761, 0.89294695, 0.89629309]])"
      ]
     },
     "execution_count": 270,
     "metadata": {},
     "output_type": "execute_result"
    }
   ],
   "source": [
    "np.random.seed(3)\n",
    "np.random.rand(2,3)"
   ]
  },
  {
   "cell_type": "code",
   "execution_count": null,
   "id": "88090379",
   "metadata": {},
   "outputs": [],
   "source": []
  }
 ],
 "metadata": {
  "kernelspec": {
   "display_name": "Python 3 (ipykernel)",
   "language": "python",
   "name": "python3"
  },
  "language_info": {
   "codemirror_mode": {
    "name": "ipython",
    "version": 3
   },
   "file_extension": ".py",
   "mimetype": "text/x-python",
   "name": "python",
   "nbconvert_exporter": "python",
   "pygments_lexer": "ipython3",
   "version": "3.10.9"
  }
 },
 "nbformat": 4,
 "nbformat_minor": 5
}
